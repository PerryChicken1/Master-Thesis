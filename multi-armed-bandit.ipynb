{
 "cells": [
  {
   "cell_type": "markdown",
   "metadata": {},
   "source": [
    "# Multi-Armed Bandit for Data Selection"
   ]
  },
  {
   "cell_type": "markdown",
   "metadata": {},
   "source": [
    "We follow in the footsteps of Gutiérrez et al (2017). Let us first formulate our objective mathematically.\n",
    "\n",
    "#### Modelling Objective\n",
    "\n",
    "We want to model $f: (x, \\mathbf{p}) \\mapsto y$, where $f$ belongs to the class of linear regression estimators parameterized by vector $\\mathbf{p}$. $x_i$  and $y_i$ are the RH98 and AGBD of footprint $i$, respectively. \n",
    "\n",
    "Parameters $\\mathbf{p}$ are estimated using a training set $S^T = \\{ s_1, \\ldots, s_{N_{\\text{train}}} \\}$ consisting of samples $s = (x,y)$. However, $S^T$ is merely a subsample from the available training data $S = \\{ h_1, \\ldots, h_{N_{\\text{total}}} \\} $ which consists of _hidden_ samples of the form $h = \\{ \\tilde{x}, \\tilde{y}, \\mathbf{m} \\}$. They are hidden because RH98 $\\tilde{x}$ and AGBD $\\tilde{y}$ are only revealed after the sample is added to the training set. By contrast, metadata $\\mathbf{m}$ about the sample is known à priori. To begin with, $S$ consists of all data in Ghana with PFT class = 2. \n",
    "\n",
    "#### Sample Efficiency Objective\n",
    "\n",
    "Unlike Gutiérrez et al, we do not incur a large cost from observing $\\tilde{x}$ or $\\tilde{y}$. However, we are interested in selecting only the most relevant samples according to $\\mathbf{m}$ all the same. We will later generalise our method to larger, more complicated datasets and more sophisticated model classes, hence sample efficiency will be important to minimise the computational burden of training the model.\n",
    "\n",
    "We select samples by partitioning $S$ into a pre-defined number of bins $\\eta_j$ for select $m_j$ $(1 \\leq j \\leq d)$ in $\\mathbf{m}$. For instance, if $m_j$ is a categorical variable with four categories, we create the j'th partition $S = \\bigcup_{k=1}^{4} C_k^j$, where $C_1^j$ contains all samples where $m_j$ is in class 1, $C_2^j$ contains all samples where $m_j$ is in class 2, etc. If $m_j$ is continuous, we quantize the variable into bins and partition accordingly. All the clusters generated using different meta information are then merged into a set of clusters $\\mathcal{C} = \\{C_l^j\\}$. Our hypothesis is that some clusters $C_i \\in \\mathcal{C}$ contain more relevant information for the modelling task than others, but we do not know which. This motivates us to train a multi-armed bandit who will simultaneously _explore_ the clusters to find out which contain the most relevant information and eventually _exploit_ these clusters to maximise the share of data therefrom.\n",
    "\n",
    "The multi-armed bandit algorithm is described in detail in their paper, but to summarise:\n",
    "\n",
    "* At every time $t$:\n",
    "    * Sample the probability of reward $\\hat{\\pi}_i$ from $Beta(\\alpha_i, \\beta_i)$ for every cluster\n",
    "    * Pick a datapoint $s$ from the cluster with highest probability of reward\n",
    "    * Add $s$ to $S^T$ and re-train the model\n",
    "    * Predict $\\hat{y}$ for a holdout validation set\n",
    "    * If score increases (decreases), $r_t = 1 \\ (-1)$\n",
    "    * Update $\\alpha_i, \\beta_i$ based on $r_t$ \n",
    "\n",
    "#### Summary of Objective\n",
    "\n",
    "Our dual objectives are then:\n",
    "\n",
    "1) To optimize the performance of $f$ at predicting $y$, as measured by the MAPE on a holdout test set.\n",
    "2) To include as few samples as necessary in $S^T$.\n",
    "\n",
    "We will train a multi-armed bandit data selector to achieve both in parallel."
   ]
  },
  {
   "cell_type": "markdown",
   "metadata": {},
   "source": [
    "### Load Packages and Data"
   ]
  },
  {
   "cell_type": "code",
   "execution_count": 1,
   "metadata": {},
   "outputs": [],
   "source": [
    "import pandas as pd\n",
    "import geopandas as gpd\n",
    "import pyogrio\n",
    "import os\n",
    "import pandas.api.types as ptypes\n",
    "import numpy as np\n",
    "import warnings\n",
    "import pickle as pkl\n",
    "import types\n",
    "from ucimlrepo import fetch_ucirepo\n",
    "from sklearn.model_selection import train_test_split\n",
    "from sklearn.linear_model import LinearRegression, Ridge, Lasso\n",
    "from sklearn.metrics import mean_absolute_percentage_error, r2_score, explained_variance_score, mean_squared_error # , root_mean_squared_error\n",
    "from matplotlib import pyplot as plt\n",
    "from scipy.stats import beta\n",
    "\n",
    "# import bandit(s)\n",
    "from MABS import bandit, crafty_bandit, lazy_bandit, ND_bandit\n",
    "\n",
    "# import score functions\n",
    "from custom_score_functions import log_ratio\n",
    "\n",
    "warnings.filterwarnings(\"ignore\", category=DeprecationWarning)\n",
    "warnings.filterwarnings(\"ignore\", category=FutureWarning)\n",
    "\n",
    "os.chdir(r\"C:\\Users\\nial\\OneDrive\\ETH Zürich\\Master Thesis\")"
   ]
  },
  {
   "cell_type": "markdown",
   "metadata": {},
   "source": [
    "Load `df_ghana`"
   ]
  },
  {
   "cell_type": "code",
   "execution_count": 4,
   "metadata": {},
   "outputs": [],
   "source": [
    "dtypes = {\n",
    "     'pft_class': 'category'\n",
    "    ,'leaf_off_f': 'category'\n",
    "    ,'urban_prop': 'int64'\n",
    "    ,'agbd': 'float64'\n",
    "    ,'agbd_se': 'float64'\n",
    "    ,'beam': 'category'\n",
    "    ,'selected_a': 'category'\n",
    "    ,'sensitivit': 'float64'\n",
    "    ,'solar_elev': 'float64'\n",
    "    ,'rh98': 'float64'\n",
    "    ,'date': 'int64'\n",
    "    ,'lat_cos': 'float64'\n",
    "    ,'lat_sin': 'float64'\n",
    "    ,'lon_cos': 'float64'\n",
    "    ,'lon_sin': 'float64'\n",
    "    ,'geometry': 'object'\n",
    "}\n",
    "\n",
    "df_ghana = pd.read_csv(\"df_ghana.csv\", dtype=dtypes)"
   ]
  },
  {
   "cell_type": "markdown",
   "metadata": {},
   "source": [
    "# PREDICTING AGBD FROM SATELLITE BAND DATA"
   ]
  },
  {
   "cell_type": "markdown",
   "metadata": {},
   "source": [
    "Load features and labels"
   ]
  },
  {
   "cell_type": "code",
   "execution_count": 7,
   "metadata": {},
   "outputs": [],
   "source": [
    "suffix          = \"_2020-vghana.csv\"\n",
    "\n",
    "test_features   = pd.read_csv(\"test_features\" + suffix)\n",
    "test_labels     = pd.read_csv(\"test_labels\" + suffix)\n",
    "train_features  = pd.read_csv(\"train_features\" + suffix)\n",
    "train_labels    = pd.read_csv(\"train_labels\" + suffix)\n",
    "val_features    = pd.read_csv(\"val_features\" + suffix)\n",
    "val_labels      = pd.read_csv(\"val_labels\" + suffix)"
   ]
  },
  {
   "cell_type": "markdown",
   "metadata": {},
   "source": [
    "Merge into one dataset"
   ]
  },
  {
   "cell_type": "code",
   "execution_count": 16,
   "metadata": {},
   "outputs": [],
   "source": [
    "test_features['agbd']           = test_labels['agbd']\n",
    "train_features['agbd']          = train_labels['agbd']\n",
    "val_features['agbd']            = val_labels['agbd']\n",
    "\n",
    "test_features['identity']       = 'test'\n",
    "train_features['identity']      = 'train'\n",
    "val_features['identity']        = 'val'\n",
    "\n",
    "df_satellite_band               = pd.concat([train_features, val_features, test_features], ignore_index=True)\n",
    "# df_satellite_band.to_csv(\"df_satellite_band.csv\", index=False)"
   ]
  },
  {
   "cell_type": "markdown",
   "metadata": {},
   "source": [
    "Set column types and load data"
   ]
  },
  {
   "cell_type": "code",
   "execution_count": 2,
   "metadata": {},
   "outputs": [],
   "source": [
    "column_types = {\n",
    "    \"B01\": \"float64\",\n",
    "    \"B02\": \"float64\",\n",
    "    \"B03\": \"float64\",\n",
    "    \"B04\": \"float64\",\n",
    "    \"B05\": \"float64\",\n",
    "    \"B06\": \"float64\",\n",
    "    \"B07\": \"float64\",\n",
    "    \"B08\": \"float64\",\n",
    "    \"B8A\": \"float64\",\n",
    "    \"B09\": \"float64\",\n",
    "    \"B11\": \"float64\",\n",
    "    \"B12\": \"float64\",\n",
    "    \"lat_cos\": \"float64\",\n",
    "    \"lat_sin\": \"float64\",\n",
    "    \"lon_cos\": \"float64\",\n",
    "    \"lon_sin\": \"float64\",\n",
    "    \"gedi_num_days\": \"float64\",\n",
    "    \"gedi_doy_cos\": \"float64\",\n",
    "    \"gedi_doy_sin\": \"float64\",\n",
    "    \"agbd_se\": \"float64\",\n",
    "    \"elev_lowes\": \"float64\",\n",
    "    \"pft_class\": \"category\",\n",
    "    \"region_cla\": \"category\",\n",
    "    \"rh98\": \"float64\",\n",
    "    \"selected_a\": \"category\",\n",
    "    \"sensitivit\": \"float64\",\n",
    "    \"solar_elev\": \"float64\",\n",
    "    \"urban_prop\": \"float64\",\n",
    "    \"alos_hh\": \"float64\",\n",
    "    \"alos_hv\": \"float64\",\n",
    "    \"ch\": \"float64\",\n",
    "    \"ch_std\": \"float64\",\n",
    "    \"lc_cos\": \"float64\",\n",
    "    \"lc_sin\": \"float64\",\n",
    "    \"lc_prob\": \"float64\",\n",
    "    \"dem\": \"float64\",\n",
    "    \"agbd\": \"float64\",\n",
    "    \"identity\": \"category\"\n",
    "}\n",
    "\n",
    "df_satellite_band = pd.read_csv(\"df_satellite_band.csv\", dtype=column_types)\n",
    "# df_satellite_band = df_satellite_band.astype(column_types)"
   ]
  },
  {
   "cell_type": "markdown",
   "metadata": {},
   "source": [
    "Instantiate bandit"
   ]
  },
  {
   "cell_type": "code",
   "execution_count": 3,
   "metadata": {},
   "outputs": [],
   "source": [
    "hidden_indices          = df_satellite_band[df_satellite_band['identity'] == 'train'].index.tolist()\n",
    "val_indices             = df_satellite_band[df_satellite_band['identity'] == 'val'].index.tolist()\n",
    "test_indices            = df_satellite_band[df_satellite_band['identity'] == 'test'].index.tolist()\n",
    "\n",
    "x                       = [\"B01\",\"B02\",\"B03\",\"B04\",\"B05\",\"B06\",\"B07\",\"B08\",\"B8A\",\"B09\",\"B11\",\"B12\"]\n",
    "y                       = 'agbd'\n",
    "features                = {'pft_class':None, 'sensitivit':8, 'ch':8}\n",
    "T                       = 4000\n",
    "batch_size              = 1\n",
    "test_freq               = 50\n",
    "\n",
    "bandit_satellite        = lazy_bandit(df_satellite_band, x=x, y=y, features=features\n",
    "                                      , hidden_indices=hidden_indices, test_indices=test_indices, val_indices=val_indices\n",
    "                                      , T=T, batch_size=batch_size, test_freq=test_freq)"
   ]
  },
  {
   "cell_type": "code",
   "execution_count": 5,
   "metadata": {},
   "outputs": [
    {
     "name": "stdout",
     "output_type": "stream",
     "text": [
      "Benchmarking run 1 for model rb\n"
     ]
    },
    {
     "name": "stderr",
     "output_type": "stream",
     "text": [
      "c:\\Users\\nial\\anaconda3\\envs\\MasterThesis\\Lib\\site-packages\\sklearn\\linear_model\\_coordinate_descent.py:628: ConvergenceWarning: Objective did not converge. You might want to increase the number of iterations, check the scale of the features or consider increasing regularisation. Duality gap: 0.000e+00, tolerance: 0.000e+00\n",
      "  model = cd_fast.enet_coordinate_descent(\n"
     ]
    },
    {
     "name": "stdout",
     "output_type": "stream",
     "text": [
      "Benchmarking run 1 for model MABS\n"
     ]
    },
    {
     "name": "stderr",
     "output_type": "stream",
     "text": [
      "c:\\Users\\nial\\anaconda3\\envs\\MasterThesis\\Lib\\site-packages\\sklearn\\linear_model\\_coordinate_descent.py:628: ConvergenceWarning: Objective did not converge. You might want to increase the number of iterations, check the scale of the features or consider increasing regularisation. Duality gap: 0.000e+00, tolerance: 0.000e+00\n",
      "  model = cd_fast.enet_coordinate_descent(\n"
     ]
    },
    {
     "name": "stdout",
     "output_type": "stream",
     "text": [
      "Benchmarking run 1 for model full\n"
     ]
    },
    {
     "data": {
      "image/png": "[encoded data removed]",
      "text/plain": [
       "<Figure size 640x480 with 1 Axes>"
      ]
     },
     "metadata": {},
     "output_type": "display_data"
    }
   ],
   "source": [
    "bandit_satellite.reset()\n",
    "bandit_satellite.benchmark_MABS(n_runs=1)"
   ]
  },
  {
   "cell_type": "markdown",
   "metadata": {},
   "source": [
    "After 4,000 iterations, it does genuinely look like MABS is out-performing the baselines! Lucky? Let's reduce the Y axis for ease and re-do."
   ]
  },
  {
   "cell_type": "markdown",
   "metadata": {},
   "source": [
    "Now we try an `ND_bandit()`"
   ]
  },
  {
   "cell_type": "code",
   "execution_count": 12,
   "metadata": {},
   "outputs": [
    {
     "data": {
      "text/plain": [
       "0         0.677691\n",
       "1         0.689002\n",
       "2         0.619217\n",
       "3         0.611538\n",
       "4         0.595189\n",
       "            ...   \n",
       "390941    0.762419\n",
       "390942    0.623909\n",
       "390943    0.654469\n",
       "390944    0.754955\n",
       "390945    0.721086\n",
       "Name: alos_hh, Length: 390946, dtype: float64"
      ]
     },
     "execution_count": 12,
     "metadata": {},
     "output_type": "execute_result"
    }
   ],
   "source": [
    "bandit_satellite.dataset['alos_hh']"
   ]
  },
  {
   "cell_type": "code",
   "execution_count": 3,
   "metadata": {},
   "outputs": [],
   "source": [
    "hidden_indices          = df_satellite_band[df_satellite_band['identity'] == 'train'].index.tolist()\n",
    "val_indices             = df_satellite_band[df_satellite_band['identity'] == 'val'].index.tolist()\n",
    "test_indices            = df_satellite_band[df_satellite_band['identity'] == 'test'].index.tolist()\n",
    "\n",
    "x                       = [\"B01\",\"B02\",\"B03\",\"B04\",\"B05\",\"B06\",\"B07\",\"B08\",\"B8A\",\"B09\",\"B11\",\"B12\"]\n",
    "y                       = 'agbd'\n",
    "features                = {'pft_class':None, 'sensitivit':3, 'alos_hh':3}\n",
    "T                       = 4000\n",
    "batch_size              = 1\n",
    "test_freq               = 50\n",
    "\n",
    "bandit_satellite        = ND_bandit(df_satellite_band, x=x, y=y, features=features\n",
    "                                      , hidden_indices=hidden_indices, test_indices=test_indices, val_indices=val_indices\n",
    "                                      , T=T, batch_size=batch_size, test_freq=test_freq)\n",
    "\n",
    "bandit_satellite.score  = log_ratio"
   ]
  },
  {
   "cell_type": "code",
   "execution_count": 4,
   "metadata": {},
   "outputs": [
    {
     "name": "stdout",
     "output_type": "stream",
     "text": [
      "Benchmarking run 1 for model full\n",
      "Benchmarking run 1 for model rb\n",
      "Benchmarking run 2 for model rb\n",
      "Benchmarking run 3 for model rb\n",
      "Benchmarking run 4 for model rb\n",
      "Benchmarking run 5 for model rb\n",
      "Benchmarking run 1 for model MABS\n"
     ]
    },
    {
     "ename": "",
     "evalue": "",
     "output_type": "error",
     "traceback": [
      "\u001b[1;31mThe Kernel crashed while executing code in the current cell or a previous cell. \n",
      "\u001b[1;31mPlease review the code in the cell(s) to identify a possible cause of the failure. \n",
      "\u001b[1;31mClick <a href='https://aka.ms/vscodeJupyterKernelCrash'>here</a> for more info. \n",
      "\u001b[1;31mView Jupyter <a href='command:jupyter.viewOutput'>log</a> for further details."
     ]
    }
   ],
   "source": [
    "bandit_satellite.benchmark_MABS(n_runs=5)"
   ]
  },
  {
   "cell_type": "markdown",
   "metadata": {},
   "source": [
    "With MSE, all the error scores are very high! MSE = 3600 for the full model corresponds to errors around 63."
   ]
  },
  {
   "cell_type": "code",
   "execution_count": 38,
   "metadata": {},
   "outputs": [
    {
     "name": "stdout",
     "output_type": "stream",
     "text": [
      "Mean of agbd in train data is 25.47\n",
      "Mean of agbd in test data is 44.89\n",
      "Mean of agbd in validation data is 33.38\n"
     ]
    }
   ],
   "source": [
    "df_test         = df_satellite_band[df_satellite_band['identity'] == 'test']\n",
    "df_train        = df_satellite_band[df_satellite_band['identity'] == 'train']\n",
    "df_val          = df_satellite_band[df_satellite_band['identity'] == 'val']\n",
    "\n",
    "mean_str        = \"Mean of agbd in {} data is {}\"\n",
    "\n",
    "print(mean_str.format(\"train\", round(np.mean(df_train['agbd']), 2)))\n",
    "print(mean_str.format(\"test\", round(np.mean(df_test['agbd']),2)))\n",
    "print(mean_str.format(\"validation\", round(np.mean(df_val['agbd']),2)))"
   ]
  },
  {
   "cell_type": "code",
   "execution_count": 41,
   "metadata": {},
   "outputs": [],
   "source": [
    "hidden_indices          = df_satellite_band[df_satellite_band['identity'] == 'train'].index.tolist()\n",
    "val_indices             = df_satellite_band[df_satellite_band['identity'] == 'val'].index.tolist()\n",
    "test_indices            = df_satellite_band[df_satellite_band['identity'] == 'test'].index.tolist()\n",
    "\n",
    "x                       = [\"B01\",\"B02\",\"B03\",\"B04\",\"B05\",\"B06\",\"B07\",\"B08\",\"B8A\",\"B09\",\"B11\",\"B12\"]\n",
    "y                       = 'agbd'\n",
    "features                = {'pft_class':None, 'sensitivit':3, 'alos_hh':3}\n",
    "T                       = 4000\n",
    "batch_size              = 1\n",
    "test_freq               = 50\n",
    "\n",
    "bandit_satellite        = ND_bandit(df_satellite_band, x=x, y=y, features=features\n",
    "                                      , hidden_indices=hidden_indices, test_indices=test_indices, val_indices=val_indices\n",
    "                                      , T=T, batch_size=batch_size, test_freq=test_freq)\n",
    "\n",
    "bandit_satellite.score  = log_ratio"
   ]
  },
  {
   "cell_type": "code",
   "execution_count": 43,
   "metadata": {},
   "outputs": [
    {
     "data": {
      "text/plain": [
       "True"
      ]
     },
     "execution_count": 43,
     "metadata": {},
     "output_type": "execute_result"
    }
   ],
   "source": [
    "bandit_satellite.lower_is_better"
   ]
  },
  {
   "cell_type": "code",
   "execution_count": 44,
   "metadata": {},
   "outputs": [
    {
     "name": "stdout",
     "output_type": "stream",
     "text": [
      "Benchmarking run 1 for model rb\n"
     ]
    },
    {
     "name": "stderr",
     "output_type": "stream",
     "text": [
      "c:\\Users\\nial\\anaconda3\\envs\\MasterThesis\\Lib\\site-packages\\sklearn\\linear_model\\_coordinate_descent.py:628: ConvergenceWarning: Objective did not converge. You might want to increase the number of iterations, check the scale of the features or consider increasing regularisation. Duality gap: 0.000e+00, tolerance: 0.000e+00\n",
      "  model = cd_fast.enet_coordinate_descent(\n"
     ]
    },
    {
     "name": "stdout",
     "output_type": "stream",
     "text": [
      "Benchmarking run 2 for model rb\n"
     ]
    },
    {
     "name": "stderr",
     "output_type": "stream",
     "text": [
      "c:\\Users\\nial\\anaconda3\\envs\\MasterThesis\\Lib\\site-packages\\sklearn\\linear_model\\_coordinate_descent.py:628: ConvergenceWarning: Objective did not converge. You might want to increase the number of iterations, check the scale of the features or consider increasing regularisation. Duality gap: 0.000e+00, tolerance: 0.000e+00\n",
      "  model = cd_fast.enet_coordinate_descent(\n"
     ]
    },
    {
     "name": "stdout",
     "output_type": "stream",
     "text": [
      "Benchmarking run 3 for model rb\n"
     ]
    },
    {
     "name": "stderr",
     "output_type": "stream",
     "text": [
      "c:\\Users\\nial\\anaconda3\\envs\\MasterThesis\\Lib\\site-packages\\sklearn\\linear_model\\_coordinate_descent.py:628: ConvergenceWarning: Objective did not converge. You might want to increase the number of iterations, check the scale of the features or consider increasing regularisation. Duality gap: 0.000e+00, tolerance: 0.000e+00\n",
      "  model = cd_fast.enet_coordinate_descent(\n"
     ]
    },
    {
     "name": "stdout",
     "output_type": "stream",
     "text": [
      "Benchmarking run 4 for model rb\n"
     ]
    },
    {
     "name": "stderr",
     "output_type": "stream",
     "text": [
      "c:\\Users\\nial\\anaconda3\\envs\\MasterThesis\\Lib\\site-packages\\sklearn\\linear_model\\_coordinate_descent.py:628: ConvergenceWarning: Objective did not converge. You might want to increase the number of iterations, check the scale of the features or consider increasing regularisation. Duality gap: 0.000e+00, tolerance: 0.000e+00\n",
      "  model = cd_fast.enet_coordinate_descent(\n"
     ]
    },
    {
     "name": "stdout",
     "output_type": "stream",
     "text": [
      "Benchmarking run 5 for model rb\n"
     ]
    },
    {
     "name": "stderr",
     "output_type": "stream",
     "text": [
      "c:\\Users\\nial\\anaconda3\\envs\\MasterThesis\\Lib\\site-packages\\sklearn\\linear_model\\_coordinate_descent.py:628: ConvergenceWarning: Objective did not converge. You might want to increase the number of iterations, check the scale of the features or consider increasing regularisation. Duality gap: 0.000e+00, tolerance: 0.000e+00\n",
      "  model = cd_fast.enet_coordinate_descent(\n"
     ]
    },
    {
     "ename": "KeyboardInterrupt",
     "evalue": "",
     "output_type": "error",
     "traceback": [
      "\u001b[1;31m---------------------------------------------------------------------------\u001b[0m",
      "\u001b[1;31mKeyboardInterrupt\u001b[0m                         Traceback (most recent call last)",
      "Cell \u001b[1;32mIn[44], line 1\u001b[0m\n\u001b[1;32m----> 1\u001b[0m \u001b[43mbandit_satellite\u001b[49m\u001b[38;5;241;43m.\u001b[39;49m\u001b[43mbenchmark_MABS\u001b[49m\u001b[43m(\u001b[49m\u001b[38;5;241;43m5\u001b[39;49m\u001b[43m)\u001b[49m\n",
      "File \u001b[1;32mc:\\Users\\nial\\Documents\\GitHub\\Master-Thesis\\MABS.py:469\u001b[0m, in \u001b[0;36mbandit.benchmark_MABS\u001b[1;34m(self, n_runs)\u001b[0m\n\u001b[0;32m    462\u001b[0m \u001b[38;5;250m\u001b[39m\u001b[38;5;124;03m\"\"\"\u001b[39;00m\n\u001b[0;32m    463\u001b[0m \u001b[38;5;124;03mPlot average test scores over n_runs for random selector, full model and MABS.\u001b[39;00m\n\u001b[0;32m    464\u001b[0m \n\u001b[0;32m    465\u001b[0m \u001b[38;5;124;03mINPUTS:\u001b[39;00m\n\u001b[0;32m    466\u001b[0m \u001b[38;5;124;03mn_runs: number of times to repeat the algorithms\u001b[39;00m\n\u001b[0;32m    467\u001b[0m \u001b[38;5;124;03m\"\"\"\u001b[39;00m\n\u001b[0;32m    468\u001b[0m \u001b[38;5;66;03m# random baseline, MABS with all features and full model\u001b[39;00m\n\u001b[1;32m--> 469\u001b[0m avg_scores_full         \u001b[38;5;241m=\u001b[39m \u001b[38;5;28mself\u001b[39m\u001b[38;5;241m.\u001b[39meval_test_performance(\u001b[38;5;241m1\u001b[39m, \u001b[38;5;124m\"\u001b[39m\u001b[38;5;124mfull\u001b[39m\u001b[38;5;124m\"\u001b[39m)\n\u001b[0;32m    470\u001b[0m avg_scores_rb           \u001b[38;5;241m=\u001b[39m \u001b[38;5;28mself\u001b[39m\u001b[38;5;241m.\u001b[39meval_test_performance(n_runs, \u001b[38;5;124m\"\u001b[39m\u001b[38;5;124mrb\u001b[39m\u001b[38;5;124m\"\u001b[39m)\n\u001b[0;32m    471\u001b[0m avg_scores_MABS         \u001b[38;5;241m=\u001b[39m \u001b[38;5;28mself\u001b[39m\u001b[38;5;241m.\u001b[39meval_test_performance(n_runs, \u001b[38;5;124m\"\u001b[39m\u001b[38;5;124mMABS\u001b[39m\u001b[38;5;124m\"\u001b[39m)\n",
      "File \u001b[1;32mc:\\Users\\nial\\Documents\\GitHub\\Master-Thesis\\MABS.py:432\u001b[0m, in \u001b[0;36mbandit.eval_test_performance\u001b[1;34m(self, n_runs, which)\u001b[0m\n\u001b[0;32m    430\u001b[0m \u001b[38;5;28mself\u001b[39m\u001b[38;5;241m.\u001b[39mreset()\n\u001b[0;32m    431\u001b[0m \u001b[38;5;28;01mif\u001b[39;00m which \u001b[38;5;241m==\u001b[39m \u001b[38;5;124m'\u001b[39m\u001b[38;5;124mMABS\u001b[39m\u001b[38;5;124m'\u001b[39m: \u001b[38;5;28mself\u001b[39m\u001b[38;5;241m.\u001b[39mrun_MABS()\n\u001b[1;32m--> 432\u001b[0m \u001b[38;5;28;01melif\u001b[39;00m which \u001b[38;5;241m==\u001b[39m \u001b[38;5;124m'\u001b[39m\u001b[38;5;124mrb\u001b[39m\u001b[38;5;124m'\u001b[39m: \u001b[38;5;28;43mself\u001b[39;49m\u001b[38;5;241;43m.\u001b[39;49m\u001b[43mrun_random_baseline\u001b[49m\u001b[43m(\u001b[49m\u001b[43m)\u001b[49m\n\u001b[0;32m    433\u001b[0m \u001b[38;5;28;01melif\u001b[39;00m which \u001b[38;5;241m==\u001b[39m \u001b[38;5;124m'\u001b[39m\u001b[38;5;124mfull\u001b[39m\u001b[38;5;124m'\u001b[39m: \u001b[38;5;28mself\u001b[39m\u001b[38;5;241m.\u001b[39mrun_full_model()\n\u001b[0;32m    435\u001b[0m test_scores         \u001b[38;5;241m=\u001b[39m np\u001b[38;5;241m.\u001b[39msum((test_scores , \u001b[38;5;28mself\u001b[39m\u001b[38;5;241m.\u001b[39mtest_scores), axis\u001b[38;5;241m=\u001b[39m\u001b[38;5;241m0\u001b[39m)\n",
      "File \u001b[1;32mc:\\Users\\nial\\Documents\\GitHub\\Master-Thesis\\MABS.py:335\u001b[0m, in \u001b[0;36mbandit.run_random_baseline\u001b[1;34m(self)\u001b[0m\n\u001b[0;32m    332\u001b[0m \u001b[38;5;28mself\u001b[39m\u001b[38;5;241m.\u001b[39mtrain_indices\u001b[38;5;241m.\u001b[39mappend(s)\n\u001b[0;32m    333\u001b[0m \u001b[38;5;28mself\u001b[39m\u001b[38;5;241m.\u001b[39mhidden_indices\u001b[38;5;241m.\u001b[39mremove(s)\n\u001b[1;32m--> 335\u001b[0m _   \u001b[38;5;241m=\u001b[39m \u001b[38;5;28;43mself\u001b[39;49m\u001b[38;5;241;43m.\u001b[39;49m\u001b[43mcompute_reward\u001b[49m\u001b[43m(\u001b[49m\u001b[43m)\u001b[49m\n\u001b[0;32m    337\u001b[0m \u001b[38;5;28;01mif\u001b[39;00m t \u001b[38;5;241m%\u001b[39m \u001b[38;5;28mself\u001b[39m\u001b[38;5;241m.\u001b[39mtest_freq \u001b[38;5;241m==\u001b[39m \u001b[38;5;241m0\u001b[39m: \u001b[38;5;28mself\u001b[39m\u001b[38;5;241m.\u001b[39mcompute_test_score()\n\u001b[0;32m    339\u001b[0m t \u001b[38;5;241m+\u001b[39m\u001b[38;5;241m=\u001b[39m \u001b[38;5;241m1\u001b[39m\n",
      "File \u001b[1;32mc:\\Users\\nial\\Documents\\GitHub\\Master-Thesis\\MABS.py:209\u001b[0m, in \u001b[0;36mbandit.compute_reward\u001b[1;34m(self)\u001b[0m\n\u001b[0;32m    205\u001b[0m \u001b[38;5;28;01mdef\u001b[39;00m \u001b[38;5;21mcompute_reward\u001b[39m(\u001b[38;5;28mself\u001b[39m):\n\u001b[0;32m    206\u001b[0m \u001b[38;5;250m    \u001b[39m\u001b[38;5;124;03m\"\"\"\u001b[39;00m\n\u001b[0;32m    207\u001b[0m \u001b[38;5;124;03m    Compute reward with current train indices.\u001b[39;00m\n\u001b[0;32m    208\u001b[0m \u001b[38;5;124;03m    \"\"\"\u001b[39;00m\n\u001b[1;32m--> 209\u001b[0m     X_train \u001b[38;5;241m=\u001b[39m \u001b[38;5;28mself\u001b[39m\u001b[38;5;241m.\u001b[39mdataset[\u001b[38;5;28;43mself\u001b[39;49m\u001b[38;5;241;43m.\u001b[39;49m\u001b[43mdataset\u001b[49m\u001b[38;5;241;43m.\u001b[39;49m\u001b[43mindex\u001b[49m\u001b[38;5;241;43m.\u001b[39;49m\u001b[43misin\u001b[49m\u001b[43m(\u001b[49m\u001b[38;5;28;43mself\u001b[39;49m\u001b[38;5;241;43m.\u001b[39;49m\u001b[43mtrain_indices\u001b[49m\u001b[43m)\u001b[49m][\u001b[38;5;28mself\u001b[39m\u001b[38;5;241m.\u001b[39mx]\u001b[38;5;241m.\u001b[39mto_numpy()\n\u001b[0;32m    210\u001b[0m     y_train \u001b[38;5;241m=\u001b[39m \u001b[38;5;28mself\u001b[39m\u001b[38;5;241m.\u001b[39mdataset[\u001b[38;5;28mself\u001b[39m\u001b[38;5;241m.\u001b[39mdataset\u001b[38;5;241m.\u001b[39mindex\u001b[38;5;241m.\u001b[39misin(\u001b[38;5;28mself\u001b[39m\u001b[38;5;241m.\u001b[39mtrain_indices)][\u001b[38;5;28mself\u001b[39m\u001b[38;5;241m.\u001b[39my]\u001b[38;5;241m.\u001b[39mto_numpy()\n\u001b[0;32m    211\u001b[0m     X_val   \u001b[38;5;241m=\u001b[39m \u001b[38;5;28mself\u001b[39m\u001b[38;5;241m.\u001b[39mdataset[\u001b[38;5;28mself\u001b[39m\u001b[38;5;241m.\u001b[39mdataset\u001b[38;5;241m.\u001b[39mindex\u001b[38;5;241m.\u001b[39misin(\u001b[38;5;28mself\u001b[39m\u001b[38;5;241m.\u001b[39mval_indices)][\u001b[38;5;28mself\u001b[39m\u001b[38;5;241m.\u001b[39mx]\u001b[38;5;241m.\u001b[39mto_numpy()\n",
      "File \u001b[1;32mc:\\Users\\nial\\anaconda3\\envs\\MasterThesis\\Lib\\site-packages\\pandas\\core\\indexes\\base.py:6611\u001b[0m, in \u001b[0;36mIndex.isin\u001b[1;34m(self, values, level)\u001b[0m\n\u001b[0;32m   6609\u001b[0m \u001b[38;5;28;01mif\u001b[39;00m level \u001b[38;5;129;01mis\u001b[39;00m \u001b[38;5;129;01mnot\u001b[39;00m \u001b[38;5;28;01mNone\u001b[39;00m:\n\u001b[0;32m   6610\u001b[0m     \u001b[38;5;28mself\u001b[39m\u001b[38;5;241m.\u001b[39m_validate_index_level(level)\n\u001b[1;32m-> 6611\u001b[0m \u001b[38;5;28;01mreturn\u001b[39;00m \u001b[43malgos\u001b[49m\u001b[38;5;241;43m.\u001b[39;49m\u001b[43misin\u001b[49m\u001b[43m(\u001b[49m\u001b[38;5;28;43mself\u001b[39;49m\u001b[38;5;241;43m.\u001b[39;49m\u001b[43m_values\u001b[49m\u001b[43m,\u001b[49m\u001b[43m \u001b[49m\u001b[43mvalues\u001b[49m\u001b[43m)\u001b[49m\n",
      "File \u001b[1;32mc:\\Users\\nial\\anaconda3\\envs\\MasterThesis\\Lib\\site-packages\\pandas\\core\\algorithms.py:545\u001b[0m, in \u001b[0;36misin\u001b[1;34m(comps, values)\u001b[0m\n\u001b[0;32m    542\u001b[0m     comps_array \u001b[38;5;241m=\u001b[39m comps_array\u001b[38;5;241m.\u001b[39mastype(common, copy\u001b[38;5;241m=\u001b[39m\u001b[38;5;28;01mFalse\u001b[39;00m)\n\u001b[0;32m    543\u001b[0m     f \u001b[38;5;241m=\u001b[39m htable\u001b[38;5;241m.\u001b[39mismember\n\u001b[1;32m--> 545\u001b[0m \u001b[38;5;28;01mreturn\u001b[39;00m \u001b[43mf\u001b[49m\u001b[43m(\u001b[49m\u001b[43mcomps_array\u001b[49m\u001b[43m,\u001b[49m\u001b[43m \u001b[49m\u001b[43mvalues\u001b[49m\u001b[43m)\u001b[49m\n",
      "\u001b[1;31mKeyboardInterrupt\u001b[0m: "
     ]
    }
   ],
   "source": [
    "bandit_satellite.benchmark_MABS(5)"
   ]
  },
  {
   "cell_type": "code",
   "execution_count": 8,
   "metadata": {},
   "outputs": [
    {
     "data": {
      "text/plain": [
       "Index(['B01', 'B02', 'B03', 'B04', 'B05', 'B06', 'B07', 'B08', 'B8A', 'B09',\n",
       "       'B11', 'B12', 'lat_cos', 'lat_sin', 'lon_cos', 'lon_sin',\n",
       "       'gedi_num_days', 'gedi_doy_cos', 'gedi_doy_sin', 'agbd_se',\n",
       "       'elev_lowes', 'pft_class', 'region_cla', 'rh98', 'selected_a',\n",
       "       'sensitivit', 'solar_elev', 'urban_prop', 'alos_hh', 'alos_hv', 'ch',\n",
       "       'ch_std', 'lc_cos', 'lc_sin', 'lc_prob', 'dem', 'agbd', 'identity'],\n",
       "      dtype='object')"
      ]
     },
     "execution_count": 8,
     "metadata": {},
     "output_type": "execute_result"
    }
   ],
   "source": [
    "df_satellite_band.columns"
   ]
  },
  {
   "cell_type": "markdown",
   "metadata": {},
   "source": [
    "# -------------- DECOMISSIONED CODE --------------"
   ]
  },
  {
   "cell_type": "markdown",
   "metadata": {},
   "source": [
    "### Test the agent on `df_ghana`"
   ]
  },
  {
   "cell_type": "code",
   "execution_count": 69,
   "metadata": {},
   "outputs": [
    {
     "name": "stdout",
     "output_type": "stream",
     "text": [
      "Benchmarking run 4\n"
     ]
    },
    {
     "name": "stderr",
     "output_type": "stream",
     "text": [
      "c:\\Users\\nial\\anaconda3\\envs\\MasterThesis\\Lib\\site-packages\\sklearn\\linear_model\\_coordinate_descent.py:628: ConvergenceWarning: Objective did not converge. You might want to increase the number of iterations, check the scale of the features or consider increasing regularisation. Duality gap: 0.000e+00, tolerance: 0.000e+00\n",
      "  model = cd_fast.enet_coordinate_descent(\n"
     ]
    },
    {
     "name": "stdout",
     "output_type": "stream",
     "text": [
      "Benchmarking run 5\n"
     ]
    },
    {
     "name": "stderr",
     "output_type": "stream",
     "text": [
      "c:\\Users\\nial\\anaconda3\\envs\\MasterThesis\\Lib\\site-packages\\sklearn\\linear_model\\_coordinate_descent.py:628: ConvergenceWarning: Objective did not converge. You might want to increase the number of iterations, check the scale of the features or consider increasing regularisation. Duality gap: 0.000e+00, tolerance: 0.000e+00\n",
      "  model = cd_fast.enet_coordinate_descent(\n"
     ]
    },
    {
     "name": "stdout",
     "output_type": "stream",
     "text": [
      "Benchmarking run 1\n"
     ]
    },
    {
     "name": "stderr",
     "output_type": "stream",
     "text": [
      "c:\\Users\\nial\\anaconda3\\envs\\MasterThesis\\Lib\\site-packages\\sklearn\\linear_model\\_coordinate_descent.py:628: ConvergenceWarning: Objective did not converge. You might want to increase the number of iterations, check the scale of the features or consider increasing regularisation. Duality gap: 0.000e+00, tolerance: 0.000e+00\n",
      "  model = cd_fast.enet_coordinate_descent(\n"
     ]
    },
    {
     "name": "stdout",
     "output_type": "stream",
     "text": [
      "Benchmarking run 2\n"
     ]
    },
    {
     "name": "stderr",
     "output_type": "stream",
     "text": [
      "c:\\Users\\nial\\anaconda3\\envs\\MasterThesis\\Lib\\site-packages\\sklearn\\linear_model\\_coordinate_descent.py:628: ConvergenceWarning: Objective did not converge. You might want to increase the number of iterations, check the scale of the features or consider increasing regularisation. Duality gap: 0.000e+00, tolerance: 0.000e+00\n",
      "  model = cd_fast.enet_coordinate_descent(\n"
     ]
    },
    {
     "name": "stdout",
     "output_type": "stream",
     "text": [
      "Benchmarking run 3\n"
     ]
    },
    {
     "name": "stderr",
     "output_type": "stream",
     "text": [
      "c:\\Users\\nial\\anaconda3\\envs\\MasterThesis\\Lib\\site-packages\\sklearn\\linear_model\\_coordinate_descent.py:628: ConvergenceWarning: Objective did not converge. You might want to increase the number of iterations, check the scale of the features or consider increasing regularisation. Duality gap: 0.000e+00, tolerance: 0.000e+00\n",
      "  model = cd_fast.enet_coordinate_descent(\n"
     ]
    },
    {
     "name": "stdout",
     "output_type": "stream",
     "text": [
      "Benchmarking run 4\n"
     ]
    },
    {
     "name": "stderr",
     "output_type": "stream",
     "text": [
      "c:\\Users\\nial\\anaconda3\\envs\\MasterThesis\\Lib\\site-packages\\sklearn\\linear_model\\_coordinate_descent.py:628: ConvergenceWarning: Objective did not converge. You might want to increase the number of iterations, check the scale of the features or consider increasing regularisation. Duality gap: 0.000e+00, tolerance: 0.000e+00\n",
      "  model = cd_fast.enet_coordinate_descent(\n"
     ]
    },
    {
     "name": "stdout",
     "output_type": "stream",
     "text": [
      "Benchmarking run 5\n"
     ]
    },
    {
     "name": "stderr",
     "output_type": "stream",
     "text": [
      "c:\\Users\\nial\\anaconda3\\envs\\MasterThesis\\Lib\\site-packages\\sklearn\\linear_model\\_coordinate_descent.py:628: ConvergenceWarning: Objective did not converge. You might want to increase the number of iterations, check the scale of the features or consider increasing regularisation. Duality gap: 0.000e+00, tolerance: 0.000e+00\n",
      "  model = cd_fast.enet_coordinate_descent(\n"
     ]
    },
    {
     "data": {
      "image/png": "[encoded data removed]",
      "text/plain": [
       "<Figure size 640x480 with 1 Axes>"
      ]
     },
     "metadata": {},
     "output_type": "display_data"
    }
   ],
   "source": [
    "features_ghana  = {'selected_a':None}\n",
    "x               = 'rh98'\n",
    "y               = 'agbd'\n",
    "\n",
    "crafty_boi = crafty_bandit(df_ghana, x=x\\\n",
    "                , y=y, features=features_ghana, T=1000, batch_size=1\\\n",
    "                , frac_train=0.8, frac_test=0.18, frac_val=0.02, test_freq=10, p_corrupt=0.1)\n",
    "\n",
    "crafty_boi.benchmark_MABS(5)"
   ]
  },
  {
   "cell_type": "code",
   "execution_count": 70,
   "metadata": {},
   "outputs": [
    {
     "data": {
      "image/png": "[encoded data removed]",
      "text/plain": [
       "<Figure size 640x480 with 1 Axes>"
      ]
     },
     "metadata": {},
     "output_type": "display_data"
    }
   ],
   "source": [
    "crafty_boi.plot_beta_dist('is_corrupted')"
   ]
  },
  {
   "cell_type": "markdown",
   "metadata": {},
   "source": [
    "Summary: the agent performs as well as randomly selecting datapoints for the features tested. This is hardly surprising though. In simple linear regression, the model class considered is small."
   ]
  },
  {
   "cell_type": "code",
   "execution_count": null,
   "metadata": {},
   "outputs": [],
   "source": [
    "features = {'beam':None, 'selected_a':None}\n",
    "bandit_boi = bandit(df_ghana, x='rh98', y='agbd', features=features, T=500, batch_size=1)\n",
    "bandit_boi.benchmark_MABS(n_runs=10)"
   ]
  },
  {
   "cell_type": "code",
   "execution_count": null,
   "metadata": {},
   "outputs": [],
   "source": [
    "features = {'beam':None, 'selected_a':None}\n",
    "bandit_gal = bandit(df_ghana, x='rh98', y='agbd', features=features, T=500, batch_size=1)\n",
    "bandit_gal.benchmark_MABS(n_runs=3)"
   ]
  },
  {
   "cell_type": "code",
   "execution_count": null,
   "metadata": {},
   "outputs": [],
   "source": [
    "test_list = [x for x in range(51)]\n",
    "test_list[10::10]"
   ]
  },
  {
   "cell_type": "code",
   "execution_count": null,
   "metadata": {},
   "outputs": [],
   "source": [
    "features = {'beam':None, 'selected_a':None}\n",
    "bandit_kid = bandit(df_ghana, x=\"rh98\", y=\"agbd\", features=features, T=50, batch_size=1)\n",
    "bandit_kid.benchmark_MABS(n_runs=1)"
   ]
  },
  {
   "cell_type": "markdown",
   "metadata": {},
   "source": [
    "Load previous bandit"
   ]
  },
  {
   "cell_type": "code",
   "execution_count": null,
   "metadata": {},
   "outputs": [],
   "source": [
    "with open('bandit_boi.pkl', 'rb') as file:\n",
    "    bandit_boi = pkl.load(file)"
   ]
  },
  {
   "cell_type": "markdown",
   "metadata": {},
   "source": [
    "### Test the agent on `Appliances Energy Prediction`"
   ]
  },
  {
   "cell_type": "markdown",
   "metadata": {},
   "source": [
    "We will test the agent on another dataset, `Appliances Energy Production`. The dataset consists of 19,000 measurements of household energy consumption, temperature and humidity conditions, co-located with meteorological variables. Our objective is to predict energy usage given the environmental variables.\n"
   ]
  },
  {
   "cell_type": "code",
   "execution_count": null,
   "metadata": {},
   "outputs": [],
   "source": [
    "def get_df_energy():\n",
    "    \"\"\"\n",
    "    Quick function to load & preprocess the appliances energy data.\n",
    "    \"\"\"\n",
    "    # fetch dataset \n",
    "    appliances_energy_prediction = fetch_ucirepo(id=374)\n",
    "    df_energy = appliances_energy_prediction.data['original']\n",
    "\n",
    "    df_energy['date']       = pd.to_datetime(df_energy['date'], format='%Y-%m-%d%H:%M:%S')\n",
    "    df_energy['month']      = df_energy['date'].dt.month\n",
    "    # df_energy['month']      = df_energy['month'].astype('category')\n",
    "    df_energy['lights']     = df_energy['lights'].astype('category')\n",
    "\n",
    "    # difference between outside and inside temperature is a relevant variable\n",
    "\n",
    "    df_energy['T_inside']   = df_energy.apply(lambda row: np.mean([row['T1'], row['T2'], row['T3'], row['T4'],\\\n",
    "                                                                   row['T5'], row['T7'], row['T8'], row['T9']])\\\n",
    "                                                                   , axis=1)\n",
    "\n",
    "    df_energy['heating']    = df_energy['T_inside'] - df_energy['T6']\n",
    "\n",
    "    df_energy['humid_in']   = df_energy.apply(lambda row: np.mean([row['RH_1'], row['RH_2'], row['RH_3'], row['RH_4'],\\\n",
    "                                                                   row['RH_5'], row['RH_7'], row['RH_8'], row['RH_9']])\\\n",
    "                                                                   , axis=1)\n",
    "\n",
    "    df_energy['humid_diff'] = df_energy['humid_in'] - df_energy['RH_6']\n",
    "\n",
    "    return df_energy"
   ]
  },
  {
   "cell_type": "code",
   "execution_count": null,
   "metadata": {},
   "outputs": [],
   "source": [
    "df_energy = get_df_energy()\n",
    "df_energy.columns"
   ]
  },
  {
   "cell_type": "markdown",
   "metadata": {},
   "source": [
    "Column `Appliances` is the response variable (energy use in Wh). `TX` and `RHX` are temperature and relative humidity metrics for room `X`, respectively, while `lights` is the energy use of light fixtures in the house (Wh). The rest of the variables are meteorological measurements from a nearby weather station. A priori, I would expect that the `lights` variable is relevant for determining clusters, while `T_out` is a relevant predictor. "
   ]
  },
  {
   "cell_type": "code",
   "execution_count": null,
   "metadata": {},
   "outputs": [],
   "source": [
    "features_energy = {'month':None}\n",
    "\n",
    "bandit_energy   = bandit(df_energy, x=['heating', 'lights', 'Press_mm_hg', 'humid_diff', 'Windspeed', 'Visibility', 'Tdewpoint']\\\n",
    "                        , y='Appliances', features=features_energy, T=1000, frac_train=0.8, frac_val=0.02, frac_test=0.18)"
   ]
  },
  {
   "cell_type": "markdown",
   "metadata": {},
   "source": [
    "We model the appliances energy consumption using temperatures from most rooms and the relative humidity in the bathroom."
   ]
  },
  {
   "cell_type": "code",
   "execution_count": null,
   "metadata": {},
   "outputs": [],
   "source": [
    "bandit_energy.benchmark_MABS(n_runs=10)"
   ]
  },
  {
   "cell_type": "markdown",
   "metadata": {},
   "source": [
    "Perhaps picking observations based on the month in which they are made is not a useful strategy..."
   ]
  },
  {
   "cell_type": "code",
   "execution_count": null,
   "metadata": {},
   "outputs": [],
   "source": [
    "features_energy = {'lights':None}\n",
    "\n",
    "bandit_energy   = bandit(df_energy, x=['heating', 'humid_diff']\\\n",
    "                        , y='Appliances', features=features_energy, T=1000, frac_train=0.8, frac_val=0.02, frac_test=0.18)"
   ]
  },
  {
   "cell_type": "code",
   "execution_count": null,
   "metadata": {},
   "outputs": [],
   "source": [
    "bandit_energy.benchmark_MABS(n_runs=10)"
   ]
  },
  {
   "cell_type": "markdown",
   "metadata": {},
   "source": [
    "What is R2 with model for heating and lights, no selection?"
   ]
  },
  {
   "cell_type": "code",
   "execution_count": null,
   "metadata": {},
   "outputs": [],
   "source": [
    "appliances_energy_prediction = fetch_ucirepo(id=374)\n",
    "df_orig = appliances_energy_prediction.data['original']"
   ]
  },
  {
   "cell_type": "code",
   "execution_count": null,
   "metadata": {},
   "outputs": [],
   "source": [
    "linear_model = LinearRegression()"
   ]
  },
  {
   "cell_type": "code",
   "execution_count": null,
   "metadata": {},
   "outputs": [],
   "source": [
    "linear_model.fit(df_orig[[col for col in df_orig.columns if col not in ['date', 'Appliances']]], df_orig['Appliances'])"
   ]
  },
  {
   "cell_type": "code",
   "execution_count": null,
   "metadata": {},
   "outputs": [],
   "source": [
    "y_pred = linear_model.predict(df_orig[[col for col in df_orig.columns if col not in ['date', 'Appliances']]])\n",
    "r2      = r2_score(df_orig['Appliances'], y_pred)\n",
    "var_exp = explained_variance_score(df_orig['Appliances'], y_pred)\n",
    "r2, var_exp"
   ]
  },
  {
   "cell_type": "markdown",
   "metadata": {},
   "source": [
    "With all predictors and whole dataset, $R^2 = 0.16$, suggesting that this prediction task may be too difficult for separating good and bad models :/"
   ]
  },
  {
   "cell_type": "markdown",
   "metadata": {},
   "source": [
    "### Data Loading"
   ]
  },
  {
   "cell_type": "markdown",
   "metadata": {},
   "source": [
    "Manually set `dtypes`"
   ]
  },
  {
   "cell_type": "code",
   "execution_count": null,
   "metadata": {},
   "outputs": [],
   "source": [
    "dtypes = {\n",
    "     'pft_class': 'category'\n",
    "    ,'region_cla': 'category'\n",
    "    ,'leaf_off_f': 'category'\n",
    "    ,'urban_prop': 'int64'\n",
    "    ,'agbd': 'float64'\n",
    "    ,'agbd_se': 'float64'\n",
    "    ,'beam': 'category'\n",
    "    ,'elev_lowes': 'float64'\n",
    "    ,'lat_lowest': 'float64'\n",
    "    ,'lon_lowest': 'float64'\n",
    "    ,'selected_a': 'category'\n",
    "    ,'shot_numbe': 'int64'\n",
    "    ,'sensitivit': 'float64'\n",
    "    ,'solar_elev': 'float64'\n",
    "    ,'rh98': 'float64'\n",
    "    ,'pattern': 'object'\n",
    "    ,'doy_sin': 'float64'\n",
    "    ,'doy_cos': 'float64'\n",
    "    ,'date': 'int64'\n",
    "    ,'lat_cos': 'float64'\n",
    "    ,'lat_sin': 'float64'\n",
    "    ,'lon_cos': 'float64'\n",
    "    ,'lon_sin': 'float64'\n",
    "    ,'pft_class_group': 'category'\n",
    "    ,'geometry': 'object'\n",
    "}\n",
    "\n",
    "df_ghana_subsample = pd.read_csv('df_ghana_subsample.csv', dtype=dtypes)"
   ]
  },
  {
   "cell_type": "markdown",
   "metadata": {},
   "source": [
    "Save `df_ghana`"
   ]
  },
  {
   "cell_type": "code",
   "execution_count": null,
   "metadata": {},
   "outputs": [],
   "source": [
    "df_ghana = gpd.read_file(\"GEDI_Ghana.geojson\"\n",
    "                         , driver = 'GeoJSON'\n",
    "                         , engine='pyogrio')\n",
    "\n",
    "df_ghana = df_ghana[df_ghana['pft_class'] == 2]\n",
    "\n",
    "cols_to_keep = ['pft_class', 'leaf_off_f','urban_prop','agbd','agbd_se', 'beam', 'selected_a', 'sensitivit'\\\n",
    "                     , 'solar_elev', 'rh98', 'date', 'lat_cos','lat_sin','lon_cos','lon_sin', 'geometry']\n",
    "\n",
    "df_ghana = df_ghana[cols_to_keep]\n",
    "\n",
    "df_ghana.to_csv(\"df_ghana.csv\", index=False)\n",
    "\n",
    "df_ghana.head(5)"
   ]
  },
  {
   "cell_type": "markdown",
   "metadata": {},
   "source": [
    "### Test the agent on `Bike Sharing Data`"
   ]
  },
  {
   "cell_type": "markdown",
   "metadata": {},
   "source": [
    "We have 17379 observations corresponding to hourly measurements of weather and a variable `cnt` indicating the number of bikes rented."
   ]
  },
  {
   "cell_type": "code",
   "execution_count": null,
   "metadata": {},
   "outputs": [],
   "source": [
    "def classify_day(row):\n",
    "    \"\"\"\n",
    "    Simplify classification of DOTW\n",
    "    \"\"\"\n",
    "    if row['holiday'] == 1: return 'holiday'\n",
    "    elif row['weekday'] in [0,6]: return 'weekend'\n",
    "    else: return 'work day'"
   ]
  },
  {
   "cell_type": "code",
   "execution_count": null,
   "metadata": {},
   "outputs": [],
   "source": [
    "def classify_hr(row):\n",
    "    \"\"\"\n",
    "    Simplify classification of hr\n",
    "    \"\"\"\n",
    "    if row['hr'] in [8,16,17,18,19]: return 'rush hour'\n",
    "    elif row['hr'] in [7, 9, 10, 11, 12, 13, 14, 15, 20]: return 'day'\n",
    "    else: return 'night'"
   ]
  },
  {
   "cell_type": "code",
   "execution_count": null,
   "metadata": {},
   "outputs": [],
   "source": [
    "def get_df_bike():\n",
    "    \"\"\"\n",
    "    Wrapper to fetch and preprocess the bike sharing data.\n",
    "    \"\"\"\n",
    "    bike                = fetch_ucirepo(id=275)\n",
    "    df_bike             = bike.data['original']\n",
    "\n",
    "    # simplify classificaitons\n",
    "    df_bike['day_type'] = df_bike.apply(lambda row: classify_day(row), axis=1)\n",
    "    df_bike['hr_type']  = df_bike.apply(lambda row: classify_hr(row), axis=1)\n",
    "\n",
    "    # cat cols\n",
    "    cat_cols            = ['day_type', 'hr_type', 'season', 'weathersit']\n",
    "    df_bike[cat_cols]   = df_bike[cat_cols].astype('category')\n",
    "    \n",
    "    # drop redundant columns\n",
    "    df_bike.drop(columns=['casual', 'registered', 'temp', 'holiday', 'weekday', 'workingday', 'hr', 'mnth', 'dteday', 'instant'], inplace=True)\n",
    "\n",
    "    return df_bike, cat_cols"
   ]
  },
  {
   "cell_type": "code",
   "execution_count": null,
   "metadata": {},
   "outputs": [],
   "source": [
    "average_cnt_by_hr = df_bike.groupby('hr')['cnt'].mean()\n",
    "\n",
    "plt.figure(figsize=(10, 6))\n",
    "plt.plot(average_cnt_by_hr.index, average_cnt_by_hr.values, marker='o', linestyle='-', color='b')\n",
    "plt.xlabel('Hour of the Day')\n",
    "plt.ylabel('Average Count')\n",
    "plt.title('Average Count by Hour of the Day')\n",
    "plt.grid(True)\n",
    "plt.xticks(range(24))  # Assuming hr is in 24-hour format\n",
    "plt.show()"
   ]
  },
  {
   "cell_type": "code",
   "execution_count": null,
   "metadata": {},
   "outputs": [],
   "source": [
    "df_encoded.head()"
   ]
  },
  {
   "cell_type": "code",
   "execution_count": null,
   "metadata": {},
   "outputs": [],
   "source": [
    "df_bike.head()"
   ]
  },
  {
   "cell_type": "code",
   "execution_count": null,
   "metadata": {},
   "outputs": [],
   "source": [
    "df_bike, cat_cols = get_df_bike()\n",
    "df_encoded        = pd.get_dummies(df_bike, columns=['season', 'yr', 'weathersit'], drop_first=True)\n",
    "\n",
    "bike_features = {'day_type': None, 'hr_type': None}\n",
    "x             = [col for col in df_encoded.columns if col not in ['cnt', 'day_type', 'hr_type']]\n",
    "\n",
    "\n",
    "# bandit_bike = bandit(df_encoded, x=x\\\n",
    "#                , y='cnt', features= bike_features, T=1000, batch_size=1\\\n",
    "#                , frac_train=0.8, frac_test=0.18, frac_val=0.02, test_freq=10)\n",
    "\n",
    "crafty_bandit_bike = crafty_bandit(df_encoded, x=x\\\n",
    "                , y='cnt', features= bike_features, T=1000, batch_size=1\\\n",
    "                , frac_train=0.8, frac_test=0.18, frac_val=0.02, test_freq=10, p_corrupt=0.1)"
   ]
  },
  {
   "cell_type": "code",
   "execution_count": null,
   "metadata": {},
   "outputs": [],
   "source": [
    "crafty_bandit_bike.features"
   ]
  },
  {
   "cell_type": "code",
   "execution_count": null,
   "metadata": {},
   "outputs": [],
   "source": [
    "crafty_bandit_bike.benchmark_MABS(n_runs=3)"
   ]
  },
  {
   "cell_type": "code",
   "execution_count": null,
   "metadata": {},
   "outputs": [],
   "source": [
    "crafty_bandit_bike.plot_beta_dist('is_corrupted')"
   ]
  },
  {
   "cell_type": "code",
   "execution_count": null,
   "metadata": {},
   "outputs": [],
   "source": [
    "bandit_bike.benchmark_MABS(n_runs=10)"
   ]
  },
  {
   "cell_type": "code",
   "execution_count": null,
   "metadata": {},
   "outputs": [],
   "source": [
    "len(y_hat)"
   ]
  },
  {
   "cell_type": "code",
   "execution_count": null,
   "metadata": {},
   "outputs": [],
   "source": [
    "y       = np.array([3, 3])\n",
    "y_hat   = np.array([6, 7])\n",
    "\n",
    "mean_absolute_percentage_error(y, y_hat)"
   ]
  },
  {
   "cell_type": "code",
   "execution_count": null,
   "metadata": {},
   "outputs": [],
   "source": [
    "bandit_mse.reset()\n",
    "bandit_mse.benchmark_MABS(n_runs=10)"
   ]
  },
  {
   "cell_type": "code",
   "execution_count": null,
   "metadata": {},
   "outputs": [],
   "source": [
    "bandit_UTH.reset()\n",
    "bandit_UTH.benchmark_MABS(n_runs=10)"
   ]
  },
  {
   "cell_type": "code",
   "execution_count": null,
   "metadata": {},
   "outputs": [],
   "source": [
    "len(bandit_UTH.test_scores)"
   ]
  },
  {
   "cell_type": "code",
   "execution_count": null,
   "metadata": {},
   "outputs": [],
   "source": [
    "bandit_UTH.plot_beta_dist('day_type')"
   ]
  },
  {
   "cell_type": "code",
   "execution_count": null,
   "metadata": {},
   "outputs": [],
   "source": [
    "# LASSO\n",
    "bike_bandit.benchmark_MABS(n_runs=10)"
   ]
  },
  {
   "cell_type": "code",
   "execution_count": null,
   "metadata": {},
   "outputs": [],
   "source": [
    "# RIDGE\n",
    "\n",
    "bike_bandit.benchmark_MABS(n_runs=10)"
   ]
  }
 ],
 "metadata": {
  "kernelspec": {
   "display_name": "MasterThesis",
   "language": "python",
   "name": "python3"
  },
  "language_info": {
   "codemirror_mode": {
    "name": "ipython",
    "version": 3
   },
   "file_extension": ".py",
   "mimetype": "text/x-python",
   "name": "python",
   "nbconvert_exporter": "python",
   "pygments_lexer": "ipython3",
   "version": "3.12.2"
  }
 },
 "nbformat": 4,
 "nbformat_minor": 2
}
