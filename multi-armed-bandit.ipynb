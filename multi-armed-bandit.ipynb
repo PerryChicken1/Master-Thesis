{
 "cells": [
  {
   "cell_type": "markdown",
   "metadata": {},
   "source": [
    "# Multi-Armed Bandit for Data Selection"
   ]
  },
  {
   "cell_type": "markdown",
   "metadata": {},
   "source": [
    "We follow in the footsteps of Gutiérrez et al (2017). Let us first formulate our objective mathematically.\n",
    "\n",
    "#### Modelling Objective\n",
    "\n",
    "We want to model $f: (x, \\mathbf{p}) \\mapsto y$, where $f$ belongs to the class of linear regression estimators parameterized by vector $\\mathbf{p}$. $x_i$  and $y_i$ are the RH98 and AGBD of footprint $i$, respectively. \n",
    "\n",
    "Parameters $\\mathbf{p}$ are estimated using a training set $S^T = \\{ s_1, \\ldots, s_{N_{\\text{train}}} \\}$ consisting of samples $s = (x,y)$. However, $S^T$ is merely a subsample from the available training data $S = \\{ h_1, \\ldots, h_{N_{\\text{total}}} \\} $ which consists of _hidden_ samples of the form $h = \\{ \\tilde{x}, \\tilde{y}, \\mathbf{m} \\}$. They are hidden because RH98 $\\tilde{x}$ and AGBD $\\tilde{y}$ are only revealed after the sample is added to the training set. By contrast, metadata $\\mathbf{m}$ about the sample is known à priori. To begin with, $S$ consists of all data in Ghana with PFT class = 2. \n",
    "\n",
    "#### Sample Efficiency Objective\n",
    "\n",
    "Unlike Gutiérrez et al, we do not incur a large cost from observing $\\tilde{x}$ or $\\tilde{y}$. However, we are interested in selecting only the most relevant samples according to $\\mathbf{m}$ all the same. We will later generalise our method to larger, more complicated datasets and more sophisticated model classes, hence sample efficiency will be important to minimise the computational burden of training the model.\n",
    "\n",
    "We select samples by partitioning $S$ into a pre-defined number of bins $\\eta_j$ for select $m_j$ $(1 \\leq j \\leq d)$ in $\\mathbf{m}$. For instance, if $m_j$ is a categorical variable with four categories, we create the j'th partition $S = \\bigcup_{k=1}^{4} C_k^j$, where $C_1^j$ contains all samples where $m_j$ is in class 1, $C_2^j$ contains all samples where $m_j$ is in class 2, etc. If $m_j$ is continuous, we quantize the variable into bins and partition accordingly. All the clusters generated using different meta information are then merged into a set of clusters $\\mathcal{C} = \\{C_l^j\\}$. Our hypothesis is that some clusters $C_i \\in \\mathcal{C}$ contain more relevant information for the modelling task than others, but we do not know which. This motivates us to train a multi-armed bandit who will simultaneously _explore_ the clusters to find out which contain the most relevant information and eventually _exploit_ these clusters to maximise the share of data therefrom.\n",
    "\n",
    "The multi-armed bandit algorithm is described in detail in their paper, but to summarise:\n",
    "\n",
    "* At every time $t$:\n",
    "    * Sample the probability of reward $\\hat{\\pi}_i$ from $Beta(\\alpha_i, \\beta_i)$ for every cluster\n",
    "    * Pick a datapoint $s$ from the cluster with highest probability of reward\n",
    "    * Add $s$ to $S^T$ and re-train the model\n",
    "    * Predict $\\hat{y}$ for a holdout validation set\n",
    "    * If score increases (decreases), $r_t = 1 \\ (-1)$\n",
    "    * Update $\\alpha_i, \\beta_i$ based on $r_t$ \n",
    "\n",
    "#### Summary of Objective\n",
    "\n",
    "Our dual objectives are then:\n",
    "\n",
    "1) To optimize the performance of $f$ at predicting $y$, as measured by the MAPE on a holdout test set.\n",
    "2) To include as few samples as necessary in $S^T$.\n",
    "\n",
    "We will train a multi-armed bandit data selector to achieve both in parallel."
   ]
  },
  {
   "cell_type": "markdown",
   "metadata": {},
   "source": [
    "### Load Packages and Data"
   ]
  },
  {
   "cell_type": "code",
   "execution_count": null,
   "metadata": {},
   "outputs": [],
   "source": [
    "import pandas as pd\n",
    "import geopandas as gpd\n",
    "import pyogrio\n",
    "import os\n",
    "import pandas.api.types as ptypes\n",
    "import numpy as np\n",
    "import warnings\n",
    "import pickle as pkl\n",
    "from ucimlrepo import fetch_ucirepo\n",
    "from sklearn.model_selection import train_test_split\n",
    "from sklearn.linear_model import LinearRegression, Ridge, Lasso\n",
    "from sklearn.metrics import mean_absolute_percentage_error, r2_score, explained_variance_score, mean_squared_error # , root_mean_squared_error\n",
    "from matplotlib import pyplot as plt\n",
    "from scipy.stats import beta\n",
    "\n",
    "warnings.filterwarnings(\"ignore\", category=DeprecationWarning)\n",
    "warnings.filterwarnings(\"ignore\", category=FutureWarning)\n",
    "\n",
    "os.chdir(r\"C:\\Users\\nial\\OneDrive\\ETH Zürich\\Master Thesis\")"
   ]
  },
  {
   "cell_type": "markdown",
   "metadata": {},
   "source": [
    "Manually set `dtypes`"
   ]
  },
  {
   "cell_type": "code",
   "execution_count": null,
   "metadata": {},
   "outputs": [],
   "source": [
    "dtypes = {\n",
    "     'pft_class': 'category'\n",
    "    ,'region_cla': 'category'\n",
    "    ,'leaf_off_f': 'category'\n",
    "    ,'urban_prop': 'int64'\n",
    "    ,'agbd': 'float64'\n",
    "    ,'agbd_se': 'float64'\n",
    "    ,'beam': 'category'\n",
    "    ,'elev_lowes': 'float64'\n",
    "    ,'lat_lowest': 'float64'\n",
    "    ,'lon_lowest': 'float64'\n",
    "    ,'selected_a': 'category'\n",
    "    ,'shot_numbe': 'int64'\n",
    "    ,'sensitivit': 'float64'\n",
    "    ,'solar_elev': 'float64'\n",
    "    ,'rh98': 'float64'\n",
    "    ,'pattern': 'object'\n",
    "    ,'doy_sin': 'float64'\n",
    "    ,'doy_cos': 'float64'\n",
    "    ,'date': 'int64'\n",
    "    ,'lat_cos': 'float64'\n",
    "    ,'lat_sin': 'float64'\n",
    "    ,'lon_cos': 'float64'\n",
    "    ,'lon_sin': 'float64'\n",
    "    ,'pft_class_group': 'category'\n",
    "    ,'geometry': 'object'\n",
    "}\n",
    "\n",
    "df_ghana_subsample = pd.read_csv('df_ghana_subsample.csv', dtype=dtypes)"
   ]
  },
  {
   "cell_type": "markdown",
   "metadata": {},
   "source": [
    "Save `df_ghana`"
   ]
  },
  {
   "cell_type": "code",
   "execution_count": null,
   "metadata": {},
   "outputs": [],
   "source": [
    "df_ghana = gpd.read_file(\"GEDI_Ghana.geojson\"\n",
    "                         , driver = 'GeoJSON'\n",
    "                         , engine='pyogrio')\n",
    "\n",
    "df_ghana = df_ghana[df_ghana['pft_class'] == 2]\n",
    "\n",
    "cols_to_keep = ['pft_class', 'leaf_off_f','urban_prop','agbd','agbd_se', 'beam', 'selected_a', 'sensitivit'\\\n",
    "                     , 'solar_elev', 'rh98', 'date', 'lat_cos','lat_sin','lon_cos','lon_sin', 'geometry']\n",
    "\n",
    "df_ghana = df_ghana[cols_to_keep]\n",
    "\n",
    "df_ghana.to_csv(\"df_ghana.csv\", index=False)\n",
    "\n",
    "df_ghana.head(5)"
   ]
  },
  {
   "cell_type": "markdown",
   "metadata": {},
   "source": [
    "Load `df_ghana`"
   ]
  },
  {
   "cell_type": "code",
   "execution_count": null,
   "metadata": {},
   "outputs": [],
   "source": [
    "dtypes = {\n",
    "     'pft_class': 'category'\n",
    "    ,'leaf_off_f': 'category'\n",
    "    ,'urban_prop': 'int64'\n",
    "    ,'agbd': 'float64'\n",
    "    ,'agbd_se': 'float64'\n",
    "    ,'beam': 'category'\n",
    "    ,'selected_a': 'category'\n",
    "    ,'sensitivit': 'float64'\n",
    "    ,'solar_elev': 'float64'\n",
    "    ,'rh98': 'float64'\n",
    "    ,'date': 'int64'\n",
    "    ,'lat_cos': 'float64'\n",
    "    ,'lat_sin': 'float64'\n",
    "    ,'lon_cos': 'float64'\n",
    "    ,'lon_sin': 'float64'\n",
    "    ,'geometry': 'object'\n",
    "}\n",
    "\n",
    "df_ghana = pd.read_csv(\"df_ghana.csv\", dtype=dtypes)"
   ]
  },
  {
   "cell_type": "markdown",
   "metadata": {},
   "source": [
    "### Define `bandit` class"
   ]
  },
  {
   "cell_type": "code",
   "execution_count": null,
   "metadata": {},
   "outputs": [],
   "source": [
    "class bandit:\n",
    "    \"\"\"\n",
    "    Bandit to select data for optimizing the model f.\n",
    "\n",
    "    INPUTS:\n",
    "    dataset: includes columns x and y\n",
    "    x: name(s) of independent variable(s)\n",
    "    y: column name of dependent variable\n",
    "    features: along which to cluster df, including n_bins if numeric\n",
    "    T: number of train points to sample before terminating (must be < frac_train * len(dataset))\n",
    "    batch_size: number of points to sample before computing reward\n",
    "    frac_train: fraction of dataset for training\n",
    "    frac_test: fraction of dataset for testing\n",
    "    frac_val: fraction of dataset for validation\n",
    "    test_freq: frequency at which to evaluate the model fit on test set\n",
    "    \"\"\"\n",
    "\n",
    "    def __init__(self, dataset: pd.DataFrame, x: str, y: str, features: dict, T: int=1000, batch_size: float=1\\\n",
    "                 , frac_train: float=0.5, frac_test: float=0.48, frac_val: float=0.02, test_freq: int=10):\n",
    "\n",
    "        # store inputs\n",
    "        self.dataset            = dataset\n",
    "        self.x                  = x\n",
    "        self.y                  = y\n",
    "        self.features           = features\n",
    "        self.T                  = T\n",
    "        self.batch_size         = batch_size\n",
    "        self.frac_train         = frac_train\n",
    "        self.frac_test          = frac_test\n",
    "        self.frac_val           = frac_val\n",
    "        self.test_freq          = test_freq\n",
    "\n",
    "        # instantiate lists\n",
    "        self.hidden_indices     = []\n",
    "        self.test_indices       = []\n",
    "        self.val_indices        = []\n",
    "        self.train_indices      = []\n",
    "        self.clusters           = []\n",
    "        self.prev_score         = -np.infty\n",
    "        self.current_score      = -np.infty\n",
    "        self.val_scores         = []\n",
    "        self.test_scores        = []\n",
    "        self.rewards            = []\n",
    "        self.sampled_C          = []\n",
    "        \n",
    "        # clusters and TTV split\n",
    "        self.clean_clusters()\n",
    "        self.generate_clusters(features)\n",
    "        self.ttv_split()\n",
    "\n",
    "        # model and score function\n",
    "        self.model              = Lasso(tol=1e-2)\n",
    "        self.predictor_count    = 1 if type(x) is str else len(x)\n",
    "        self.score              = mean_squared_error # mean_absolute_percentage_error # r2_score\n",
    "        self.lower_is_better    = True\n",
    "\n",
    "    def clean_clusters(self):\n",
    "        \"\"\"\n",
    "        Upon initialization, delete all previous cluster assignments.\n",
    "        \"\"\"\n",
    "        cluster_cols = [c for c in self.dataset.columns if 'cluster_ID_' in c]\n",
    "        self.dataset.drop(columns=cluster_cols, inplace=True)\n",
    "        self.clusters.clear()\n",
    "\n",
    "    def generate_cluster(self, feature: str, n_bins: int=10):\n",
    "        \"\"\"\n",
    "        Partitions the data into clusters along the specified metadata variable.\n",
    "        If the feature is categorical, then the categories determine the clusters.\n",
    "        If the feature is numeric, then the feature is quantized into n_bins clusters.\n",
    "\n",
    "        INPUTS:\n",
    "        feature: name of feature in dataset along which to define clusters.\n",
    "        n_bins: number of bins, if feature is numeric.\n",
    "\n",
    "        OUTPUTS:\n",
    "        Adds column to self.dataset indicating the cluster ID of an observation along the given metadata feature.\n",
    "        \"\"\"\n",
    "        # get column\n",
    "        try: cluster_column = self.dataset[f'{feature}']\n",
    "        except KeyError: raise KeyError(f\"Column {feature} does not exist in dataset\")\n",
    "\n",
    "        # numeric\n",
    "        if ptypes.is_numeric_dtype(cluster_column):\n",
    "\n",
    "            # -1 for bins\n",
    "            cluster_ids, bins   = pd.qcut(cluster_column, q=n_bins-1, labels=False, duplicates='drop', retbins=True)\n",
    "            cluster_ids         = cluster_ids.apply(lambda c_id: bins[c_id])\n",
    "\n",
    "        # categorical\n",
    "        elif ptypes.is_categorical_dtype(cluster_column):\n",
    "            \n",
    "            cluster_ids         = cluster_column\n",
    "\n",
    "        # unique\n",
    "        unique_clusters = cluster_ids.unique()\n",
    "\n",
    "        # save IDs\n",
    "        feature_name               = f\"cluster_ID_{feature}\"\n",
    "        self.dataset[feature_name] = cluster_ids\n",
    "\n",
    "        # save clusters\n",
    "        for cluster_name in unique_clusters:\n",
    "            self.clusters.append((feature_name, cluster_name))\n",
    "\n",
    "        # instantiate prior distributions\n",
    "        self.num_clusters       = len(self.clusters)\n",
    "        self.alphas             = np.ones(self.num_clusters)\n",
    "        self.betas              = np.ones(self.num_clusters)\n",
    "            \n",
    "    def generate_clusters(self, features: dict):\n",
    "        \"\"\"\n",
    "        Partitions the data into clusters along the specified metadata variables.\n",
    "        \n",
    "        INPUTS:\n",
    "        features: dictionary of form {feature: n_bins}. The n_bins argument is ignored when feature is categorical.\n",
    "        \"\"\"\n",
    "        for feature, n_bins in features.items():\n",
    "            self.generate_cluster(feature, n_bins)\n",
    "        \n",
    "    def ttv_split(self):\n",
    "        \"\"\"\n",
    "        Split dataset into train, test and validation components.\n",
    "        \"\"\"\n",
    "        data_size = len(self.dataset.index)\n",
    "        assert np.isclose(self.frac_train + self.frac_test + self.frac_val, 1.0), \"Train, test, validation fractions must sum to 1\"\n",
    "\n",
    "        pos_train           = int(data_size * self.frac_train)\n",
    "        pos_test            = int(data_size * self.frac_test)\n",
    "\n",
    "        split_points        = [pos_train, pos_train + pos_test]\n",
    "\n",
    "        hidden_indices, test_indices, val_indices \\\n",
    "                            = np.split(self.dataset.sample(frac=1), split_points)\n",
    "\n",
    "        self.hidden_indices = hidden_indices.index.tolist()\n",
    "        self.test_indices   = test_indices.index.tolist()\n",
    "        self.val_indices    = val_indices.index.tolist()\n",
    "\n",
    "    def sample_reward_probabilities(self):\n",
    "        \"\"\"\n",
    "        Sample reward probabilities from multivariate Beta distribution.\n",
    "        \"\"\"\n",
    "        pi = np.array([np.random.beta(a, b) for a, b in zip(self.alphas, self.betas)]).T\n",
    "        return pi\n",
    "\n",
    "    def sample_datapoint(self, pi: np.ndarray):\n",
    "        \"\"\"\n",
    "        Sample a datapoint and add to the training dataset. Return cluster sampled.\n",
    "\n",
    "        INPUTS:\n",
    "        pi: reward probabilities\n",
    "        \"\"\"\n",
    "        # find first non-empty cluster from which to sample\n",
    "        pi_descending   = np.argsort(pi)[::-1]\n",
    "        counter         = 0\n",
    "\n",
    "        # runs at least once and until a non-empty cluster is found\n",
    "        while counter == 0 or cluster.empty:\n",
    "            j               = pi_descending[counter]\n",
    "            feature, value  = self.clusters[j]\n",
    "            \n",
    "            # implicitly converts index for .isin() to work\n",
    "            cluster         = self.dataset[(self.dataset[feature] == value)]\n",
    "            cluster         = cluster[cluster.index.isin(self.hidden_indices)]\n",
    "\n",
    "            counter += 1\n",
    "        \n",
    "        # pick datapoint\n",
    "        cluster_size    = len(cluster.index)\n",
    "        s_index         = np.random.randint(0, cluster_size)\n",
    "        s               = cluster.index[s_index]\n",
    "\n",
    "        self.train_indices.append(s)\n",
    "        try: self.hidden_indices.remove(s)\n",
    "        except ValueError: raise ValueError(f\"s = {s}\")\n",
    "        self.sampled_C.append(j)\n",
    "        return j\n",
    "    \n",
    "    def score_prediction(self, y: np.ndarray, y_hat: np.ndarray):\n",
    "        \"\"\"\n",
    "        Compute score for predictions.\n",
    "\n",
    "        INPUTS:\n",
    "        y: true values\n",
    "        y_hat: predicted values\n",
    "        \"\"\"\n",
    "        # return self.score(y, y_hat)\n",
    "\n",
    "        # no 0 preds \n",
    "        y_hat = np.where(y_hat < 0, 0.01, y_hat)\n",
    "        return np.median(np.abs(np.log(y_hat/y)))\n",
    "\n",
    "\n",
    "    def compute_reward(self):\n",
    "        \"\"\"\n",
    "        Compute reward with current train indices.\n",
    "        \"\"\"\n",
    "        X_train = self.dataset[self.dataset.index.isin(self.train_indices)][self.x].to_numpy()\n",
    "        y_train = self.dataset[self.dataset.index.isin(self.train_indices)][self.y].to_numpy()\n",
    "        X_val   = self.dataset[self.dataset.index.isin(self.val_indices)][self.x].to_numpy()\n",
    "        y_val   = self.dataset[self.dataset.index.isin(self.val_indices)][self.y].to_numpy()\n",
    "\n",
    "        # reshape if single feature\n",
    "        if self.predictor_count == 1: \n",
    "            X_train = X_train.reshape(-1, 1)\n",
    "            X_val   = X_val.reshape(-1,1)\n",
    "\n",
    "        self.X_train= X_train \n",
    "        self.model.fit(X_train, y_train)\n",
    "\n",
    "        y_val_hat           = self.model.predict(X_val)\n",
    "        self.prev_score     = self.current_score\n",
    "        self.current_score  = self.score_prediction(y_val, y_val_hat)\n",
    "\n",
    "        # allocate reward\n",
    "        if self.lower_is_better: reward = 1 if self.current_score < self.prev_score else 0\n",
    "        elif not self.lower_is_better: reward = 1 if self.current_score > self.prev_score else 0\n",
    "\n",
    "        self.rewards.append(reward)\n",
    "        self.val_scores.append(self.current_score)\n",
    "\n",
    "        return reward\n",
    "    \n",
    "    def compute_test_score(self):\n",
    "        \"\"\"\n",
    "        Compute score on test set with current train indices.\n",
    "        \"\"\"\n",
    "        X_train = self.dataset[self.dataset.index.isin(self.train_indices)][self.x].to_numpy()\n",
    "        y_train = self.dataset[self.dataset.index.isin(self.train_indices)][self.y].to_numpy()\n",
    "        X_test  = self.dataset[self.dataset.index.isin(self.test_indices)][self.x].to_numpy()\n",
    "        y_test  = self.dataset[self.dataset.index.isin(self.test_indices)][self.y].to_numpy()\n",
    "\n",
    "        # reshape if single feature\n",
    "        if self.predictor_count == 1: \n",
    "            X_train = X_train.reshape(-1, 1)\n",
    "            X_test  = X_test.reshape(-1,1)\n",
    "   \n",
    "        self.model.fit(X_train, y_train)\n",
    "\n",
    "        y_test_hat  = self.model.predict(X_test)\n",
    "        test_score  = self.score_prediction(y_test, y_test_hat)\n",
    "        self.test_scores.append(test_score)\n",
    "\n",
    "    def update_beta_params(self, reward: int, j_batch: int):\n",
    "        \"\"\"\n",
    "        Update parameters for cluster sampling distributions based on reward.\n",
    "\n",
    "        INPUTS:\n",
    "        reward: reward from latest datapoint selection\n",
    "        j: indices of clusters from which datapoints selected\n",
    "        \"\"\"\n",
    "        for j in j_batch:\n",
    "            if reward == 1: self.alphas[j] += 1\n",
    "            else:           self.betas[j] += 1\n",
    "\n",
    "    def under_the_hood(self, pi:np.ndarray, j:int, current_score: float, prev_score: float, r:float):\n",
    "        \"\"\"\n",
    "        Provide intermittent status reports about the agent during data selection.\n",
    "        Only valuable when batch_size == 1. Not enabled by default.\n",
    "        \n",
    "        INPUTS:\n",
    "        pi: expected cluster values\n",
    "        j: index of cluster last sampled\n",
    "        current_score: score relating to j\n",
    "        prev_score: previous score\n",
    "        r: latest reward\n",
    "        \"\"\"\n",
    "        cluster_sampled = self.clusters[j]\n",
    "        feature         = cluster_sampled[0].replace('cluster_ID_', '')\n",
    "\n",
    "        print(f\"pi = {pi}\")\n",
    "        print(f\"Cluster names: {self.clusters}\")\n",
    "        print(f\"Cluster j = {j} sampled: {cluster_sampled}\")\n",
    "        print(f\"Model score before sample: {prev_score}\")\n",
    "        print(f\"Model score after sample: {current_score}\")\n",
    "        print(f\"Reward: {r}\")\n",
    "\n",
    "        self.plot_beta_dist(feature=feature)\n",
    "\n",
    "    def reset(self):\n",
    "        \"\"\"\n",
    "        Clear attributes between algorithm runs.\n",
    "        \"\"\"\n",
    "        self.train_indices.clear()\n",
    "        self.val_scores.clear()\n",
    "        self.test_scores.clear()\n",
    "        self.rewards.clear()\n",
    "        self.sampled_C.clear()\n",
    "\n",
    "        self.prev_score         = -np.infty\n",
    "        self.current_score      = -np.infty\n",
    "        self.alphas             = np.ones(self.num_clusters)\n",
    "        self.betas              = np.ones(self.num_clusters)\n",
    "\n",
    "        self.ttv_split()\n",
    "    \n",
    "    def run_random_baseline(self):\n",
    "        \"\"\"\n",
    "        Run a random datapoint selector to benchmark MABS.\n",
    "        \"\"\"\n",
    "        t = 1\n",
    "\n",
    "        # run for T time steps\n",
    "        while t <= self.T:\n",
    "            \n",
    "            s   = np.random.choice(self.hidden_indices)\n",
    "            self.train_indices.append(s)\n",
    "            self.hidden_indices.remove(s)\n",
    "\n",
    "            _   = self.compute_reward()\n",
    "            \n",
    "            if t % self.test_freq == 0: self.compute_test_score()\n",
    "            \n",
    "            t += 1\n",
    "\n",
    "    def run_MABS(self):\n",
    "        \"\"\"\n",
    "        Run the multi-armed bandit selection algorithm.\n",
    "        \"\"\"\n",
    "        t = 1\n",
    "\n",
    "        # run for T time steps\n",
    "        while t <= self.T:\n",
    "\n",
    "            j_batch = []\n",
    "\n",
    "            # run for batch_size obs before computing reward\n",
    "            for _ in range(self.batch_size):\n",
    "                pi  = self.sample_reward_probabilities()\n",
    "                j   = self.sample_datapoint(pi)\n",
    "                j_batch.append(j)\n",
    "\n",
    "            r = self.compute_reward()\n",
    "            if t % self.test_freq == 0: self.compute_test_score()\n",
    "            self.update_beta_params(reward=r, j_batch=j_batch)\n",
    "\n",
    "            # self.under_the_hood(pi, j, self.current_score, self.prev_score, r) #TODO: remove\n",
    "\n",
    "            t += 1\n",
    "\n",
    "    def plot_scores(self, times:np.ndarray, scores: np.ndarray, *args, **kwargs):\n",
    "        \"\"\"\n",
    "        After an algorithm is run, plot the scores over time.\n",
    "\n",
    "        INPUTS:\n",
    "        times: list of times\n",
    "        scores: list of scores\n",
    "        *args and **kwargs: parameters for plt.plot()\n",
    "        \"\"\"\n",
    "    \n",
    "        plt.plot(times, scores, markersize=2, *args, **kwargs)\n",
    "        plt.xlabel(\"Time step t\")\n",
    "        plt.ylabel(f\"{self.score.__name__}\")\n",
    "        plt.title(\"Regression model performance over time\")\n",
    "        plt.ylim(bottom=0)\n",
    "\n",
    "    def plot_beta_dist(self, feature: str, *args, **kwargs):\n",
    "        \"\"\"\n",
    "        After run_MABS() is executed, plot the beta distributions for all categories of a given feature. \n",
    "\n",
    "        INPUTS:\n",
    "        *args and **kwargs: parameters for plt.plot()\n",
    "        \"\"\"\n",
    "        # filter to relevant features & categories\n",
    "        feature_name    = f\"cluster_ID_{feature}\"\n",
    "        j_indices       = [index for index, (name, _) in enumerate(self.clusters) if name == feature_name]\n",
    "        categories      = [cat for (name, cat) in self.clusters if name == feature_name]\n",
    "\n",
    "        # get relevant alphas & betas\n",
    "        alphas  = self.alphas[j_indices]\n",
    "        betas   = self.betas[j_indices]\n",
    "\n",
    "        # plot         \n",
    "        x = np.arange(100) / 100\n",
    "        plt.clf()\n",
    "\n",
    "        for k, _ in enumerate(j_indices):\n",
    "            y = beta.pdf(x=x, a=alphas[k], b=betas[k])\n",
    "            plt.plot(x, y, ls='-', linewidth=2, label=categories[k], *args, **kwargs)\n",
    "\n",
    "        plt.xlabel(\"x\")\n",
    "        plt.ylabel(\"Density\")\n",
    "        plt.title(f\"Sampling distributions at t = {self.T}\")\n",
    "        plt.suptitle(f\"Feature {feature}\")\n",
    "        plt.legend()\n",
    "        plt.show()\n",
    "\n",
    "    \n",
    "    def eval_test_performance(self, n_runs:int = 1, MABS_or_rb: str = \"MABS\"):\n",
    "        \"\"\"\n",
    "        Compute average test scores over n_runs for MABS or random selector.\n",
    "\n",
    "        INPUTS:\n",
    "        n_runs: number of times to repeat the algorithms\n",
    "        MABS_or_rb: whether to evaluate 'MABS' or 'rb'\n",
    "        \"\"\"\n",
    "        test_scores     = np.zeros((self.T // self.test_freq))\n",
    "        current_run     = 1\n",
    "\n",
    "        while current_run <= n_runs:\n",
    "            \n",
    "            print(f\"Benchmarking run {current_run}\")\n",
    "\n",
    "            self.reset()\n",
    "            if MABS_or_rb == 'MABS': self.run_MABS()\n",
    "            elif MABS_or_rb == 'rb': self.run_random_baseline()\n",
    "\n",
    "            test_scores         = np.sum((test_scores , self.test_scores), axis=0)\n",
    "\n",
    "            current_run += 1\n",
    "\n",
    "        avg_scores  = test_scores / n_runs\n",
    "\n",
    "        return avg_scores\n",
    "    \n",
    "    def plot_test_performance(self, avg_scores_dict: dict):\n",
    "        \"\"\"\n",
    "        Plot outputs from eval_test_performance().\n",
    "\n",
    "        INPUTS:\n",
    "        avg_scores_dict: {label: avg_scores}\n",
    "        \"\"\"\n",
    "        plt.figure()\n",
    "        times   = [t for t in range(0, self.T + 1)]\n",
    "\n",
    "        for label, avg_scores in avg_scores_dict.items():\n",
    "            self.plot_scores(times=times[self.test_freq::self.test_freq], scores=avg_scores, label=label)\n",
    "\n",
    "        plt.legend()\n",
    "        plt.show()\n",
    "    \n",
    "    def benchmark_MABS(self, n_runs:int = 1):\n",
    "        \"\"\"\n",
    "        Plot average test scores over n_runs for random selector and full MABS.\n",
    "\n",
    "        INPUTS:\n",
    "        n_runs: number of times to repeat the algorithms\n",
    "        \"\"\"\n",
    "        # random baseline and MABS with all features\n",
    "        avg_scores_rb           = self.eval_test_performance(n_runs, \"rb\")\n",
    "        avg_scores_MABS         = self.eval_test_performance(n_runs, \"MABS\")\n",
    "        avg_scores_dict         = {'Random baseline': avg_scores_rb, 'MABS': avg_scores_MABS}\n",
    "\n",
    "        # each individual feature\n",
    "        if len(self.features) > 1:\n",
    "\n",
    "            for feature, n_bins in self.features.items():\n",
    "\n",
    "                # generate cluster\n",
    "                self.clean_clusters()\n",
    "                self.generate_cluster(feature, n_bins)\n",
    "\n",
    "                avg_scores_f    = self.eval_test_performance(n_runs, \"MABS\")\n",
    "\n",
    "                avg_scores_dict[f\"MABS {feature}\"] \\\n",
    "                                =  avg_scores_f\n",
    "\n",
    "        self.plot_test_performance(avg_scores_dict)    \n"
   ]
  },
  {
   "cell_type": "code",
   "execution_count": null,
   "metadata": {},
   "outputs": [],
   "source": [
    "class crafty_bandit(bandit):\n",
    "    \"\"\"\n",
    "    Corrupts training data and attempts to successfully model regardless.\n",
    "\n",
    "    INPUTS:\n",
    "    dataset: includes columns x and y\n",
    "    x: name(s) of independent variable(s)\n",
    "    y: column name of dependent variable\n",
    "    features: along which to cluster df, including n_bins if numeric\n",
    "    T: number of train points to sample before terminating (must be < frac_train * len(dataset))\n",
    "    batch_size: number of points to sample before computing reward\n",
    "    frac_train: fraction of dataset for training\n",
    "    frac_test: fraction of dataset for testing\n",
    "    frac_val: fraction of dataset for validation\n",
    "    test_freq: frequency at which to evaluate the model fit on test set\n",
    "    p_corrupt: proportion of training observations to corrupt\n",
    "    \"\"\"\n",
    "    def __init__(self, dataset: pd.DataFrame, x: str, y: str, features: dict, T: int=1000, batch_size: float=1\\\n",
    "                 , frac_train: float=0.5, frac_test: float=0.48, frac_val: float=0.02, test_freq: int=10, p_corrupt: float=0.1):\n",
    "\n",
    "        # store inputs\n",
    "        self.dataset            = dataset\n",
    "        self.x                  = x\n",
    "        self.y                  = y\n",
    "        self.features           = features\n",
    "        self.T                  = T\n",
    "        self.batch_size         = batch_size\n",
    "        self.frac_train         = frac_train\n",
    "        self.frac_test          = frac_test\n",
    "        self.frac_val           = frac_val\n",
    "        self.test_freq          = test_freq\n",
    "\n",
    "        # instantiate lists\n",
    "        self.hidden_indices     = []\n",
    "        self.test_indices       = []\n",
    "        self.val_indices        = []\n",
    "        self.train_indices      = []\n",
    "        self.clusters           = []\n",
    "        self.prev_score         = -np.infty\n",
    "        self.current_score      = -np.infty\n",
    "        self.val_scores         = []\n",
    "        self.test_scores        = []\n",
    "        self.rewards            = []\n",
    "        self.sampled_C          = []\n",
    "        \n",
    "        # clusters and TTV split\n",
    "        self.ttv_split()\n",
    "        self.corrupt_train_data(p_corrupt)\n",
    "        self.clean_clusters()\n",
    "        self.generate_clusters(self.features)\n",
    "\n",
    "        # model and score function\n",
    "        self.model              = Lasso(tol=1e-2)\n",
    "        self.predictor_count    = 1 if type(x) is str else len(x)\n",
    "        self.score              = mean_squared_error # mean_absolute_percentage_error # r2_score\n",
    "        self.lower_is_better    = True\n",
    "\n",
    "    def corrupt_train_data(self, p_corrupt: float):\n",
    "        \"\"\"\n",
    "        Corrupt training datapoints Y and record.\n",
    "\n",
    "        INPUTS:\n",
    "        p_corrupt: proportion of training observations to corrupt\n",
    "        \"\"\"\n",
    "        # corrupt training points\n",
    "        self.dataset[\"is_corrupted\"]    = 0\n",
    "        min_y, max_y                    = min(self.dataset[self.y]), max(self.dataset[self.y])\n",
    "\n",
    "        for i in self.hidden_indices:\n",
    "            u = np.random.uniform(0,1)\n",
    "\n",
    "            if u < p_corrupt:\n",
    "                random_y                            = np.random.randint(min_y, max_y) # self.dataset[self.y].sample(1)\n",
    "                self.dataset.at[i, self.y]          = random_y\n",
    "                self.dataset.at[i, \"is_corrupted\"]  = 1\n",
    "        \n",
    "        # make column categorical; add feature to dataset\n",
    "        self.dataset[\"is_corrupted\"]    = self.dataset[\"is_corrupted\"].astype('category')\n",
    "        self.features['is_corrupted']   = None\n"
   ]
  },
  {
   "cell_type": "code",
   "execution_count": null,
   "metadata": {},
   "outputs": [],
   "source": [
    "bandit_bike.dataset.head()"
   ]
  },
  {
   "cell_type": "markdown",
   "metadata": {},
   "source": [
    "### Test the agent on `Bike Sharing Data`"
   ]
  },
  {
   "cell_type": "markdown",
   "metadata": {},
   "source": [
    "We have 17379 observations corresponding to hourly measurements of weather and a variable `cnt` indicating the number of bikes rented."
   ]
  },
  {
   "cell_type": "code",
   "execution_count": null,
   "metadata": {},
   "outputs": [],
   "source": [
    "def classify_day(row):\n",
    "    \"\"\"\n",
    "    Simplify classification of DOTW\n",
    "    \"\"\"\n",
    "    if row['holiday'] == 1: return 'holiday'\n",
    "    elif row['weekday'] in [0,6]: return 'weekend'\n",
    "    else: return 'work day'"
   ]
  },
  {
   "cell_type": "code",
   "execution_count": null,
   "metadata": {},
   "outputs": [],
   "source": [
    "def classify_hr(row):\n",
    "    \"\"\"\n",
    "    Simplify classification of hr\n",
    "    \"\"\"\n",
    "    if row['hr'] in [8,16,17,18,19]: return 'rush hour'\n",
    "    elif row['hr'] in [7, 9, 10, 11, 12, 13, 14, 15, 20]: return 'day'\n",
    "    else: return 'night'"
   ]
  },
  {
   "cell_type": "code",
   "execution_count": null,
   "metadata": {},
   "outputs": [],
   "source": [
    "def get_df_bike():\n",
    "    \"\"\"\n",
    "    Wrapper to fetch and preprocess the bike sharing data.\n",
    "    \"\"\"\n",
    "    bike                = fetch_ucirepo(id=275)\n",
    "    df_bike             = bike.data['original']\n",
    "\n",
    "    # simplify classificaitons\n",
    "    df_bike['day_type'] = df_bike.apply(lambda row: classify_day(row), axis=1)\n",
    "    df_bike['hr_type']  = df_bike.apply(lambda row: classify_hr(row), axis=1)\n",
    "\n",
    "    # cat cols\n",
    "    cat_cols            = ['day_type', 'hr_type', 'season', 'weathersit']\n",
    "    df_bike[cat_cols]   = df_bike[cat_cols].astype('category')\n",
    "    \n",
    "    # drop redundant columns\n",
    "    df_bike.drop(columns=['casual', 'registered', 'temp', 'holiday', 'weekday', 'workingday', 'hr', 'mnth', 'dteday', 'instant'], inplace=True)\n",
    "\n",
    "    return df_bike, cat_cols"
   ]
  },
  {
   "cell_type": "code",
   "execution_count": null,
   "metadata": {},
   "outputs": [],
   "source": [
    "average_cnt_by_hr = df_bike.groupby('hr')['cnt'].mean()\n",
    "\n",
    "plt.figure(figsize=(10, 6))\n",
    "plt.plot(average_cnt_by_hr.index, average_cnt_by_hr.values, marker='o', linestyle='-', color='b')\n",
    "plt.xlabel('Hour of the Day')\n",
    "plt.ylabel('Average Count')\n",
    "plt.title('Average Count by Hour of the Day')\n",
    "plt.grid(True)\n",
    "plt.xticks(range(24))  # Assuming hr is in 24-hour format\n",
    "plt.show()"
   ]
  },
  {
   "cell_type": "code",
   "execution_count": null,
   "metadata": {},
   "outputs": [],
   "source": [
    "df_encoded.head()"
   ]
  },
  {
   "cell_type": "code",
   "execution_count": null,
   "metadata": {},
   "outputs": [],
   "source": [
    "df_bike.head()"
   ]
  },
  {
   "cell_type": "code",
   "execution_count": null,
   "metadata": {},
   "outputs": [],
   "source": [
    "df_bike, cat_cols = get_df_bike()\n",
    "df_encoded        = pd.get_dummies(df_bike, columns=['season', 'yr', 'weathersit'], drop_first=True)\n",
    "\n",
    "bike_features = {'day_type': None, 'hr_type': None}\n",
    "x             = [col for col in df_encoded.columns if col not in ['cnt', 'day_type', 'hr_type']]\n",
    "\n",
    "\n",
    "# bandit_bike = bandit(df_encoded, x=x\\\n",
    "#                , y='cnt', features= bike_features, T=1000, batch_size=1\\\n",
    "#                , frac_train=0.8, frac_test=0.18, frac_val=0.02, test_freq=10)\n",
    "\n",
    "crafty_bandit_bike = crafty_bandit(df_encoded, x=x\\\n",
    "                , y='cnt', features= bike_features, T=1000, batch_size=1\\\n",
    "                , frac_train=0.8, frac_test=0.18, frac_val=0.02, test_freq=10, p_corrupt=0.1)"
   ]
  },
  {
   "cell_type": "code",
   "execution_count": null,
   "metadata": {},
   "outputs": [],
   "source": [
    "crafty_bandit_bike.features"
   ]
  },
  {
   "cell_type": "code",
   "execution_count": null,
   "metadata": {},
   "outputs": [],
   "source": [
    "crafty_bandit_bike.benchmark_MABS(n_runs=3)"
   ]
  },
  {
   "cell_type": "code",
   "execution_count": null,
   "metadata": {},
   "outputs": [],
   "source": [
    "crafty_bandit_bike.plot_beta_dist('is_corrupted')"
   ]
  },
  {
   "cell_type": "code",
   "execution_count": null,
   "metadata": {},
   "outputs": [],
   "source": [
    "bandit_bike.benchmark_MABS(n_runs=10)"
   ]
  },
  {
   "cell_type": "code",
   "execution_count": null,
   "metadata": {},
   "outputs": [],
   "source": [
    "len(y_hat)"
   ]
  },
  {
   "cell_type": "code",
   "execution_count": null,
   "metadata": {},
   "outputs": [],
   "source": [
    "y       = np.array([3, 3])\n",
    "y_hat   = np.array([6, 7])\n",
    "\n",
    "mean_absolute_percentage_error(y, y_hat)"
   ]
  },
  {
   "cell_type": "code",
   "execution_count": null,
   "metadata": {},
   "outputs": [],
   "source": [
    "bandit_mse.reset()\n",
    "bandit_mse.benchmark_MABS(n_runs=10)"
   ]
  },
  {
   "cell_type": "code",
   "execution_count": null,
   "metadata": {},
   "outputs": [],
   "source": [
    "bandit_UTH.reset()\n",
    "bandit_UTH.benchmark_MABS(n_runs=10)"
   ]
  },
  {
   "cell_type": "code",
   "execution_count": null,
   "metadata": {},
   "outputs": [],
   "source": [
    "len(bandit_UTH.test_scores)"
   ]
  },
  {
   "cell_type": "code",
   "execution_count": null,
   "metadata": {},
   "outputs": [],
   "source": [
    "bandit_UTH.plot_beta_dist('day_type')"
   ]
  },
  {
   "cell_type": "code",
   "execution_count": null,
   "metadata": {},
   "outputs": [],
   "source": [
    "# LASSO\n",
    "bike_bandit.benchmark_MABS(n_runs=10)"
   ]
  },
  {
   "cell_type": "code",
   "execution_count": null,
   "metadata": {},
   "outputs": [],
   "source": [
    "# RIDGE\n",
    "\n",
    "bike_bandit.benchmark_MABS(n_runs=10)"
   ]
  },
  {
   "cell_type": "markdown",
   "metadata": {},
   "source": [
    "# -------------- DECOMISSIONED CODE --------------"
   ]
  },
  {
   "cell_type": "markdown",
   "metadata": {},
   "source": [
    "### Test the agent on `df_ghana`"
   ]
  },
  {
   "cell_type": "code",
   "execution_count": 69,
   "metadata": {},
   "outputs": [
    {
     "name": "stdout",
     "output_type": "stream",
     "text": [
      "Benchmarking run 4\n"
     ]
    },
    {
     "name": "stderr",
     "output_type": "stream",
     "text": [
      "c:\\Users\\nial\\anaconda3\\envs\\MasterThesis\\Lib\\site-packages\\sklearn\\linear_model\\_coordinate_descent.py:628: ConvergenceWarning: Objective did not converge. You might want to increase the number of iterations, check the scale of the features or consider increasing regularisation. Duality gap: 0.000e+00, tolerance: 0.000e+00\n",
      "  model = cd_fast.enet_coordinate_descent(\n"
     ]
    },
    {
     "name": "stdout",
     "output_type": "stream",
     "text": [
      "Benchmarking run 5\n"
     ]
    },
    {
     "name": "stderr",
     "output_type": "stream",
     "text": [
      "c:\\Users\\nial\\anaconda3\\envs\\MasterThesis\\Lib\\site-packages\\sklearn\\linear_model\\_coordinate_descent.py:628: ConvergenceWarning: Objective did not converge. You might want to increase the number of iterations, check the scale of the features or consider increasing regularisation. Duality gap: 0.000e+00, tolerance: 0.000e+00\n",
      "  model = cd_fast.enet_coordinate_descent(\n"
     ]
    },
    {
     "name": "stdout",
     "output_type": "stream",
     "text": [
      "Benchmarking run 1\n"
     ]
    },
    {
     "name": "stderr",
     "output_type": "stream",
     "text": [
      "c:\\Users\\nial\\anaconda3\\envs\\MasterThesis\\Lib\\site-packages\\sklearn\\linear_model\\_coordinate_descent.py:628: ConvergenceWarning: Objective did not converge. You might want to increase the number of iterations, check the scale of the features or consider increasing regularisation. Duality gap: 0.000e+00, tolerance: 0.000e+00\n",
      "  model = cd_fast.enet_coordinate_descent(\n"
     ]
    },
    {
     "name": "stdout",
     "output_type": "stream",
     "text": [
      "Benchmarking run 2\n"
     ]
    },
    {
     "name": "stderr",
     "output_type": "stream",
     "text": [
      "c:\\Users\\nial\\anaconda3\\envs\\MasterThesis\\Lib\\site-packages\\sklearn\\linear_model\\_coordinate_descent.py:628: ConvergenceWarning: Objective did not converge. You might want to increase the number of iterations, check the scale of the features or consider increasing regularisation. Duality gap: 0.000e+00, tolerance: 0.000e+00\n",
      "  model = cd_fast.enet_coordinate_descent(\n"
     ]
    },
    {
     "name": "stdout",
     "output_type": "stream",
     "text": [
      "Benchmarking run 3\n"
     ]
    },
    {
     "name": "stderr",
     "output_type": "stream",
     "text": [
      "c:\\Users\\nial\\anaconda3\\envs\\MasterThesis\\Lib\\site-packages\\sklearn\\linear_model\\_coordinate_descent.py:628: ConvergenceWarning: Objective did not converge. You might want to increase the number of iterations, check the scale of the features or consider increasing regularisation. Duality gap: 0.000e+00, tolerance: 0.000e+00\n",
      "  model = cd_fast.enet_coordinate_descent(\n"
     ]
    },
    {
     "name": "stdout",
     "output_type": "stream",
     "text": [
      "Benchmarking run 4\n"
     ]
    },
    {
     "name": "stderr",
     "output_type": "stream",
     "text": [
      "c:\\Users\\nial\\anaconda3\\envs\\MasterThesis\\Lib\\site-packages\\sklearn\\linear_model\\_coordinate_descent.py:628: ConvergenceWarning: Objective did not converge. You might want to increase the number of iterations, check the scale of the features or consider increasing regularisation. Duality gap: 0.000e+00, tolerance: 0.000e+00\n",
      "  model = cd_fast.enet_coordinate_descent(\n"
     ]
    },
    {
     "name": "stdout",
     "output_type": "stream",
     "text": [
      "Benchmarking run 5\n"
     ]
    },
    {
     "name": "stderr",
     "output_type": "stream",
     "text": [
      "c:\\Users\\nial\\anaconda3\\envs\\MasterThesis\\Lib\\site-packages\\sklearn\\linear_model\\_coordinate_descent.py:628: ConvergenceWarning: Objective did not converge. You might want to increase the number of iterations, check the scale of the features or consider increasing regularisation. Duality gap: 0.000e+00, tolerance: 0.000e+00\n",
      "  model = cd_fast.enet_coordinate_descent(\n"
     ]
    },
    {
     "data": {
      "image/png": "[encoded data removed]",
      "text/plain": [
       "<Figure size 640x480 with 1 Axes>"
      ]
     },
     "metadata": {},
     "output_type": "display_data"
    }
   ],
   "source": [
    "features_ghana  = {'selected_a':None}\n",
    "x               = 'rh98'\n",
    "y               = 'agbd'\n",
    "\n",
    "crafty_boi = crafty_bandit(df_ghana, x=x\\\n",
    "                , y=y, features=features_ghana, T=1000, batch_size=1\\\n",
    "                , frac_train=0.8, frac_test=0.18, frac_val=0.02, test_freq=10, p_corrupt=0.1)\n",
    "\n",
    "crafty_boi.benchmark_MABS(5)"
   ]
  },
  {
   "cell_type": "code",
   "execution_count": 70,
   "metadata": {},
   "outputs": [
    {
     "data": {
      "image/png": "[encoded data removed]",
      "text/plain": [
       "<Figure size 640x480 with 1 Axes>"
      ]
     },
     "metadata": {},
     "output_type": "display_data"
    }
   ],
   "source": [
    "crafty_boi.plot_beta_dist('is_corrupted')"
   ]
  },
  {
   "cell_type": "markdown",
   "metadata": {},
   "source": [
    "Summary: the agent performs as well as randomly selecting datapoints for the features tested. This is hardly surprising though. In simple linear regression, the model class considered is small."
   ]
  },
  {
   "cell_type": "code",
   "execution_count": null,
   "metadata": {},
   "outputs": [],
   "source": [
    "features = {'beam':None, 'selected_a':None}\n",
    "bandit_boi = bandit(df_ghana, x='rh98', y='agbd', features=features, T=500, batch_size=1)\n",
    "bandit_boi.benchmark_MABS(n_runs=10)"
   ]
  },
  {
   "cell_type": "code",
   "execution_count": null,
   "metadata": {},
   "outputs": [],
   "source": [
    "features = {'beam':None, 'selected_a':None}\n",
    "bandit_gal = bandit(df_ghana, x='rh98', y='agbd', features=features, T=500, batch_size=1)\n",
    "bandit_gal.benchmark_MABS(n_runs=3)"
   ]
  },
  {
   "cell_type": "code",
   "execution_count": null,
   "metadata": {},
   "outputs": [],
   "source": [
    "test_list = [x for x in range(51)]\n",
    "test_list[10::10]"
   ]
  },
  {
   "cell_type": "code",
   "execution_count": null,
   "metadata": {},
   "outputs": [],
   "source": [
    "features = {'beam':None, 'selected_a':None}\n",
    "bandit_kid = bandit(df_ghana, x=\"rh98\", y=\"agbd\", features=features, T=50, batch_size=1)\n",
    "bandit_kid.benchmark_MABS(n_runs=1)"
   ]
  },
  {
   "cell_type": "markdown",
   "metadata": {},
   "source": [
    "Load previous bandit"
   ]
  },
  {
   "cell_type": "code",
   "execution_count": null,
   "metadata": {},
   "outputs": [],
   "source": [
    "with open('bandit_boi.pkl', 'rb') as file:\n",
    "    bandit_boi = pkl.load(file)"
   ]
  },
  {
   "cell_type": "markdown",
   "metadata": {},
   "source": [
    "### Test the agent on `Appliances Energy Prediction`"
   ]
  },
  {
   "cell_type": "markdown",
   "metadata": {},
   "source": [
    "We will test the agent on another dataset, `Appliances Energy Production`. The dataset consists of 19,000 measurements of household energy consumption, temperature and humidity conditions, co-located with meteorological variables. Our objective is to predict energy usage given the environmental variables.\n"
   ]
  },
  {
   "cell_type": "code",
   "execution_count": null,
   "metadata": {},
   "outputs": [],
   "source": [
    "def get_df_energy():\n",
    "    \"\"\"\n",
    "    Quick function to load & preprocess the appliances energy data.\n",
    "    \"\"\"\n",
    "    # fetch dataset \n",
    "    appliances_energy_prediction = fetch_ucirepo(id=374)\n",
    "    df_energy = appliances_energy_prediction.data['original']\n",
    "\n",
    "    df_energy['date']       = pd.to_datetime(df_energy['date'], format='%Y-%m-%d%H:%M:%S')\n",
    "    df_energy['month']      = df_energy['date'].dt.month\n",
    "    # df_energy['month']      = df_energy['month'].astype('category')\n",
    "    df_energy['lights']     = df_energy['lights'].astype('category')\n",
    "\n",
    "    # difference between outside and inside temperature is a relevant variable\n",
    "\n",
    "    df_energy['T_inside']   = df_energy.apply(lambda row: np.mean([row['T1'], row['T2'], row['T3'], row['T4'],\\\n",
    "                                                                   row['T5'], row['T7'], row['T8'], row['T9']])\\\n",
    "                                                                   , axis=1)\n",
    "\n",
    "    df_energy['heating']    = df_energy['T_inside'] - df_energy['T6']\n",
    "\n",
    "    df_energy['humid_in']   = df_energy.apply(lambda row: np.mean([row['RH_1'], row['RH_2'], row['RH_3'], row['RH_4'],\\\n",
    "                                                                   row['RH_5'], row['RH_7'], row['RH_8'], row['RH_9']])\\\n",
    "                                                                   , axis=1)\n",
    "\n",
    "    df_energy['humid_diff'] = df_energy['humid_in'] - df_energy['RH_6']\n",
    "\n",
    "    return df_energy"
   ]
  },
  {
   "cell_type": "code",
   "execution_count": null,
   "metadata": {},
   "outputs": [],
   "source": [
    "df_energy = get_df_energy()\n",
    "df_energy.columns"
   ]
  },
  {
   "cell_type": "markdown",
   "metadata": {},
   "source": [
    "Column `Appliances` is the response variable (energy use in Wh). `TX` and `RHX` are temperature and relative humidity metrics for room `X`, respectively, while `lights` is the energy use of light fixtures in the house (Wh). The rest of the variables are meteorological measurements from a nearby weather station. A priori, I would expect that the `lights` variable is relevant for determining clusters, while `T_out` is a relevant predictor. "
   ]
  },
  {
   "cell_type": "code",
   "execution_count": null,
   "metadata": {},
   "outputs": [],
   "source": [
    "features_energy = {'month':None}\n",
    "\n",
    "bandit_energy   = bandit(df_energy, x=['heating', 'lights', 'Press_mm_hg', 'humid_diff', 'Windspeed', 'Visibility', 'Tdewpoint']\\\n",
    "                        , y='Appliances', features=features_energy, T=1000, frac_train=0.8, frac_val=0.02, frac_test=0.18)"
   ]
  },
  {
   "cell_type": "markdown",
   "metadata": {},
   "source": [
    "We model the appliances energy consumption using temperatures from most rooms and the relative humidity in the bathroom."
   ]
  },
  {
   "cell_type": "code",
   "execution_count": null,
   "metadata": {},
   "outputs": [],
   "source": [
    "bandit_energy.benchmark_MABS(n_runs=10)"
   ]
  },
  {
   "cell_type": "markdown",
   "metadata": {},
   "source": [
    "Perhaps picking observations based on the month in which they are made is not a useful strategy..."
   ]
  },
  {
   "cell_type": "code",
   "execution_count": null,
   "metadata": {},
   "outputs": [],
   "source": [
    "features_energy = {'lights':None}\n",
    "\n",
    "bandit_energy   = bandit(df_energy, x=['heating', 'humid_diff']\\\n",
    "                        , y='Appliances', features=features_energy, T=1000, frac_train=0.8, frac_val=0.02, frac_test=0.18)"
   ]
  },
  {
   "cell_type": "code",
   "execution_count": null,
   "metadata": {},
   "outputs": [],
   "source": [
    "bandit_energy.benchmark_MABS(n_runs=10)"
   ]
  },
  {
   "cell_type": "markdown",
   "metadata": {},
   "source": [
    "What is R2 with model for heating and lights, no selection?"
   ]
  },
  {
   "cell_type": "code",
   "execution_count": null,
   "metadata": {},
   "outputs": [],
   "source": [
    "appliances_energy_prediction = fetch_ucirepo(id=374)\n",
    "df_orig = appliances_energy_prediction.data['original']"
   ]
  },
  {
   "cell_type": "code",
   "execution_count": null,
   "metadata": {},
   "outputs": [],
   "source": [
    "linear_model = LinearRegression()"
   ]
  },
  {
   "cell_type": "code",
   "execution_count": null,
   "metadata": {},
   "outputs": [],
   "source": [
    "linear_model.fit(df_orig[[col for col in df_orig.columns if col not in ['date', 'Appliances']]], df_orig['Appliances'])"
   ]
  },
  {
   "cell_type": "code",
   "execution_count": null,
   "metadata": {},
   "outputs": [],
   "source": [
    "y_pred = linear_model.predict(df_orig[[col for col in df_orig.columns if col not in ['date', 'Appliances']]])\n",
    "r2      = r2_score(df_orig['Appliances'], y_pred)\n",
    "var_exp = explained_variance_score(df_orig['Appliances'], y_pred)\n",
    "r2, var_exp"
   ]
  },
  {
   "cell_type": "markdown",
   "metadata": {},
   "source": [
    "With all predictors and whole dataset, $R^2 = 0.16$, suggesting that this prediction task may be too difficult for separating good and bad models :/"
   ]
  }
 ],
 "metadata": {
  "kernelspec": {
   "display_name": "MasterThesis",
   "language": "python",
   "name": "python3"
  },
  "language_info": {
   "codemirror_mode": {
    "name": "ipython",
    "version": 3
   },
   "file_extension": ".py",
   "mimetype": "text/x-python",
   "name": "python",
   "nbconvert_exporter": "python",
   "pygments_lexer": "ipython3",
   "version": "3.12.2"
  }
 },
 "nbformat": 4,
 "nbformat_minor": 2
}
